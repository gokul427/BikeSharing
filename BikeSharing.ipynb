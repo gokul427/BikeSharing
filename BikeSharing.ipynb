{
 "cells": [
  {
   "cell_type": "markdown",
   "id": "c75e1d41",
   "metadata": {},
   "source": [
    "## Read Data"
   ]
  },
  {
   "cell_type": "code",
   "execution_count": 1,
   "id": "f4f23f48",
   "metadata": {},
   "outputs": [],
   "source": [
    "import numpy as np\n",
    "import pandas as pd\n",
    "import matplotlib.pyplot as plt\n",
    "import seaborn as sns\n",
    "# Supress Warnings\n",
    "\n",
    "import warnings\n",
    "warnings.filterwarnings('ignore')"
   ]
  },
  {
   "cell_type": "code",
   "execution_count": 2,
   "id": "0aeb3b6e",
   "metadata": {},
   "outputs": [],
   "source": [
    "# read csv file\n",
    "df = pd.read_csv(\"day.csv\")"
   ]
  },
  {
   "cell_type": "markdown",
   "id": "948abc4f",
   "metadata": {},
   "source": [
    "## Understand Data"
   ]
  },
  {
   "cell_type": "code",
   "execution_count": 3,
   "id": "4fd29ee6",
   "metadata": {},
   "outputs": [
    {
     "data": {
      "text/html": [
       "<div>\n",
       "<style scoped>\n",
       "    .dataframe tbody tr th:only-of-type {\n",
       "        vertical-align: middle;\n",
       "    }\n",
       "\n",
       "    .dataframe tbody tr th {\n",
       "        vertical-align: top;\n",
       "    }\n",
       "\n",
       "    .dataframe thead th {\n",
       "        text-align: right;\n",
       "    }\n",
       "</style>\n",
       "<table border=\"1\" class=\"dataframe\">\n",
       "  <thead>\n",
       "    <tr style=\"text-align: right;\">\n",
       "      <th></th>\n",
       "      <th>instant</th>\n",
       "      <th>dteday</th>\n",
       "      <th>season</th>\n",
       "      <th>yr</th>\n",
       "      <th>mnth</th>\n",
       "      <th>holiday</th>\n",
       "      <th>weekday</th>\n",
       "      <th>workingday</th>\n",
       "      <th>weathersit</th>\n",
       "      <th>temp</th>\n",
       "      <th>atemp</th>\n",
       "      <th>hum</th>\n",
       "      <th>windspeed</th>\n",
       "      <th>casual</th>\n",
       "      <th>registered</th>\n",
       "      <th>cnt</th>\n",
       "    </tr>\n",
       "  </thead>\n",
       "  <tbody>\n",
       "    <tr>\n",
       "      <th>557</th>\n",
       "      <td>558</td>\n",
       "      <td>12-07-2019</td>\n",
       "      <td>3</td>\n",
       "      <td>1</td>\n",
       "      <td>7</td>\n",
       "      <td>0</td>\n",
       "      <td>4</td>\n",
       "      <td>1</td>\n",
       "      <td>1</td>\n",
       "      <td>29.349153</td>\n",
       "      <td>32.73415</td>\n",
       "      <td>52.9583</td>\n",
       "      <td>9.833925</td>\n",
       "      <td>1032</td>\n",
       "      <td>6414</td>\n",
       "      <td>7446</td>\n",
       "    </tr>\n",
       "    <tr>\n",
       "      <th>533</th>\n",
       "      <td>534</td>\n",
       "      <td>18-06-2019</td>\n",
       "      <td>2</td>\n",
       "      <td>1</td>\n",
       "      <td>6</td>\n",
       "      <td>0</td>\n",
       "      <td>1</td>\n",
       "      <td>1</td>\n",
       "      <td>2</td>\n",
       "      <td>23.301653</td>\n",
       "      <td>27.24210</td>\n",
       "      <td>77.7917</td>\n",
       "      <td>11.707982</td>\n",
       "      <td>653</td>\n",
       "      <td>4446</td>\n",
       "      <td>5099</td>\n",
       "    </tr>\n",
       "    <tr>\n",
       "      <th>693</th>\n",
       "      <td>694</td>\n",
       "      <td>25-11-2019</td>\n",
       "      <td>4</td>\n",
       "      <td>1</td>\n",
       "      <td>11</td>\n",
       "      <td>0</td>\n",
       "      <td>0</td>\n",
       "      <td>0</td>\n",
       "      <td>1</td>\n",
       "      <td>10.079153</td>\n",
       "      <td>12.87915</td>\n",
       "      <td>46.8333</td>\n",
       "      <td>10.083500</td>\n",
       "      <td>309</td>\n",
       "      <td>2115</td>\n",
       "      <td>2424</td>\n",
       "    </tr>\n",
       "    <tr>\n",
       "      <th>159</th>\n",
       "      <td>160</td>\n",
       "      <td>09-06-2018</td>\n",
       "      <td>2</td>\n",
       "      <td>0</td>\n",
       "      <td>6</td>\n",
       "      <td>0</td>\n",
       "      <td>4</td>\n",
       "      <td>1</td>\n",
       "      <td>2</td>\n",
       "      <td>33.141653</td>\n",
       "      <td>37.87895</td>\n",
       "      <td>56.8333</td>\n",
       "      <td>10.042161</td>\n",
       "      <td>563</td>\n",
       "      <td>3352</td>\n",
       "      <td>3915</td>\n",
       "    </tr>\n",
       "    <tr>\n",
       "      <th>27</th>\n",
       "      <td>28</td>\n",
       "      <td>28-01-2018</td>\n",
       "      <td>1</td>\n",
       "      <td>0</td>\n",
       "      <td>1</td>\n",
       "      <td>0</td>\n",
       "      <td>5</td>\n",
       "      <td>1</td>\n",
       "      <td>2</td>\n",
       "      <td>8.342598</td>\n",
       "      <td>11.16585</td>\n",
       "      <td>79.3043</td>\n",
       "      <td>8.261100</td>\n",
       "      <td>38</td>\n",
       "      <td>1129</td>\n",
       "      <td>1167</td>\n",
       "    </tr>\n",
       "  </tbody>\n",
       "</table>\n",
       "</div>"
      ],
      "text/plain": [
       "     instant      dteday  season  yr  mnth  holiday  weekday  workingday  \\\n",
       "557      558  12-07-2019       3   1     7        0        4           1   \n",
       "533      534  18-06-2019       2   1     6        0        1           1   \n",
       "693      694  25-11-2019       4   1    11        0        0           0   \n",
       "159      160  09-06-2018       2   0     6        0        4           1   \n",
       "27        28  28-01-2018       1   0     1        0        5           1   \n",
       "\n",
       "     weathersit       temp     atemp      hum  windspeed  casual  registered  \\\n",
       "557           1  29.349153  32.73415  52.9583   9.833925    1032        6414   \n",
       "533           2  23.301653  27.24210  77.7917  11.707982     653        4446   \n",
       "693           1  10.079153  12.87915  46.8333  10.083500     309        2115   \n",
       "159           2  33.141653  37.87895  56.8333  10.042161     563        3352   \n",
       "27            2   8.342598  11.16585  79.3043   8.261100      38        1129   \n",
       "\n",
       "      cnt  \n",
       "557  7446  \n",
       "533  5099  \n",
       "693  2424  \n",
       "159  3915  \n",
       "27   1167  "
      ]
     },
     "execution_count": 3,
     "metadata": {},
     "output_type": "execute_result"
    }
   ],
   "source": [
    "# see random sample\n",
    "df.sample(5)"
   ]
  },
  {
   "cell_type": "code",
   "execution_count": 4,
   "id": "fd283004",
   "metadata": {},
   "outputs": [
    {
     "data": {
      "text/plain": [
       "(730, 16)"
      ]
     },
     "execution_count": 4,
     "metadata": {},
     "output_type": "execute_result"
    }
   ],
   "source": [
    "df.shape"
   ]
  },
  {
   "cell_type": "markdown",
   "id": "45fff2e8",
   "metadata": {},
   "source": [
    "we have 730 rows and 17 columns"
   ]
  },
  {
   "cell_type": "code",
   "execution_count": 5,
   "id": "9b84019b",
   "metadata": {},
   "outputs": [
    {
     "name": "stdout",
     "output_type": "stream",
     "text": [
      "<class 'pandas.core.frame.DataFrame'>\n",
      "RangeIndex: 730 entries, 0 to 729\n",
      "Data columns (total 16 columns):\n",
      " #   Column      Non-Null Count  Dtype  \n",
      "---  ------      --------------  -----  \n",
      " 0   instant     730 non-null    int64  \n",
      " 1   dteday      730 non-null    object \n",
      " 2   season      730 non-null    int64  \n",
      " 3   yr          730 non-null    int64  \n",
      " 4   mnth        730 non-null    int64  \n",
      " 5   holiday     730 non-null    int64  \n",
      " 6   weekday     730 non-null    int64  \n",
      " 7   workingday  730 non-null    int64  \n",
      " 8   weathersit  730 non-null    int64  \n",
      " 9   temp        730 non-null    float64\n",
      " 10  atemp       730 non-null    float64\n",
      " 11  hum         730 non-null    float64\n",
      " 12  windspeed   730 non-null    float64\n",
      " 13  casual      730 non-null    int64  \n",
      " 14  registered  730 non-null    int64  \n",
      " 15  cnt         730 non-null    int64  \n",
      "dtypes: float64(4), int64(11), object(1)\n",
      "memory usage: 91.4+ KB\n"
     ]
    }
   ],
   "source": [
    "df.info()"
   ]
  },
  {
   "cell_type": "markdown",
   "id": "94049dc7",
   "metadata": {},
   "source": [
    "We have int and float type more with only one object type <br>\n",
    "instant,temp,atemp,hum,windspeed,casual,registered,cnt are numerical vars, remaining are categorical"
   ]
  },
  {
   "cell_type": "code",
   "execution_count": 6,
   "id": "11864426",
   "metadata": {},
   "outputs": [
    {
     "data": {
      "text/plain": [
       "instant       0\n",
       "dteday        0\n",
       "season        0\n",
       "yr            0\n",
       "mnth          0\n",
       "holiday       0\n",
       "weekday       0\n",
       "workingday    0\n",
       "weathersit    0\n",
       "temp          0\n",
       "atemp         0\n",
       "hum           0\n",
       "windspeed     0\n",
       "casual        0\n",
       "registered    0\n",
       "cnt           0\n",
       "dtype: int64"
      ]
     },
     "execution_count": 6,
     "metadata": {},
     "output_type": "execute_result"
    }
   ],
   "source": [
    "df.isnull().sum()"
   ]
  },
  {
   "cell_type": "markdown",
   "id": "76e7fdd3",
   "metadata": {},
   "source": [
    "There are no missing values"
   ]
  },
  {
   "cell_type": "code",
   "execution_count": 7,
   "id": "ce3b5970",
   "metadata": {},
   "outputs": [
    {
     "data": {
      "text/html": [
       "<div>\n",
       "<style scoped>\n",
       "    .dataframe tbody tr th:only-of-type {\n",
       "        vertical-align: middle;\n",
       "    }\n",
       "\n",
       "    .dataframe tbody tr th {\n",
       "        vertical-align: top;\n",
       "    }\n",
       "\n",
       "    .dataframe thead th {\n",
       "        text-align: right;\n",
       "    }\n",
       "</style>\n",
       "<table border=\"1\" class=\"dataframe\">\n",
       "  <thead>\n",
       "    <tr style=\"text-align: right;\">\n",
       "      <th></th>\n",
       "      <th>instant</th>\n",
       "      <th>season</th>\n",
       "      <th>yr</th>\n",
       "      <th>mnth</th>\n",
       "      <th>holiday</th>\n",
       "      <th>weekday</th>\n",
       "      <th>workingday</th>\n",
       "      <th>weathersit</th>\n",
       "      <th>temp</th>\n",
       "      <th>atemp</th>\n",
       "      <th>hum</th>\n",
       "      <th>windspeed</th>\n",
       "      <th>casual</th>\n",
       "      <th>registered</th>\n",
       "      <th>cnt</th>\n",
       "    </tr>\n",
       "  </thead>\n",
       "  <tbody>\n",
       "    <tr>\n",
       "      <th>count</th>\n",
       "      <td>730.000000</td>\n",
       "      <td>730.000000</td>\n",
       "      <td>730.000000</td>\n",
       "      <td>730.000000</td>\n",
       "      <td>730.000000</td>\n",
       "      <td>730.000000</td>\n",
       "      <td>730.000000</td>\n",
       "      <td>730.000000</td>\n",
       "      <td>730.000000</td>\n",
       "      <td>730.000000</td>\n",
       "      <td>730.000000</td>\n",
       "      <td>730.000000</td>\n",
       "      <td>730.000000</td>\n",
       "      <td>730.000000</td>\n",
       "      <td>730.000000</td>\n",
       "    </tr>\n",
       "    <tr>\n",
       "      <th>mean</th>\n",
       "      <td>365.500000</td>\n",
       "      <td>2.498630</td>\n",
       "      <td>0.500000</td>\n",
       "      <td>6.526027</td>\n",
       "      <td>0.028767</td>\n",
       "      <td>2.997260</td>\n",
       "      <td>0.683562</td>\n",
       "      <td>1.394521</td>\n",
       "      <td>20.319259</td>\n",
       "      <td>23.726322</td>\n",
       "      <td>62.765175</td>\n",
       "      <td>12.763620</td>\n",
       "      <td>849.249315</td>\n",
       "      <td>3658.757534</td>\n",
       "      <td>4508.006849</td>\n",
       "    </tr>\n",
       "    <tr>\n",
       "      <th>std</th>\n",
       "      <td>210.877136</td>\n",
       "      <td>1.110184</td>\n",
       "      <td>0.500343</td>\n",
       "      <td>3.450215</td>\n",
       "      <td>0.167266</td>\n",
       "      <td>2.006161</td>\n",
       "      <td>0.465405</td>\n",
       "      <td>0.544807</td>\n",
       "      <td>7.506729</td>\n",
       "      <td>8.150308</td>\n",
       "      <td>14.237589</td>\n",
       "      <td>5.195841</td>\n",
       "      <td>686.479875</td>\n",
       "      <td>1559.758728</td>\n",
       "      <td>1936.011647</td>\n",
       "    </tr>\n",
       "    <tr>\n",
       "      <th>min</th>\n",
       "      <td>1.000000</td>\n",
       "      <td>1.000000</td>\n",
       "      <td>0.000000</td>\n",
       "      <td>1.000000</td>\n",
       "      <td>0.000000</td>\n",
       "      <td>0.000000</td>\n",
       "      <td>0.000000</td>\n",
       "      <td>1.000000</td>\n",
       "      <td>2.424346</td>\n",
       "      <td>3.953480</td>\n",
       "      <td>0.000000</td>\n",
       "      <td>1.500244</td>\n",
       "      <td>2.000000</td>\n",
       "      <td>20.000000</td>\n",
       "      <td>22.000000</td>\n",
       "    </tr>\n",
       "    <tr>\n",
       "      <th>25%</th>\n",
       "      <td>183.250000</td>\n",
       "      <td>2.000000</td>\n",
       "      <td>0.000000</td>\n",
       "      <td>4.000000</td>\n",
       "      <td>0.000000</td>\n",
       "      <td>1.000000</td>\n",
       "      <td>0.000000</td>\n",
       "      <td>1.000000</td>\n",
       "      <td>13.811885</td>\n",
       "      <td>16.889713</td>\n",
       "      <td>52.000000</td>\n",
       "      <td>9.041650</td>\n",
       "      <td>316.250000</td>\n",
       "      <td>2502.250000</td>\n",
       "      <td>3169.750000</td>\n",
       "    </tr>\n",
       "    <tr>\n",
       "      <th>50%</th>\n",
       "      <td>365.500000</td>\n",
       "      <td>3.000000</td>\n",
       "      <td>0.500000</td>\n",
       "      <td>7.000000</td>\n",
       "      <td>0.000000</td>\n",
       "      <td>3.000000</td>\n",
       "      <td>1.000000</td>\n",
       "      <td>1.000000</td>\n",
       "      <td>20.465826</td>\n",
       "      <td>24.368225</td>\n",
       "      <td>62.625000</td>\n",
       "      <td>12.125325</td>\n",
       "      <td>717.000000</td>\n",
       "      <td>3664.500000</td>\n",
       "      <td>4548.500000</td>\n",
       "    </tr>\n",
       "    <tr>\n",
       "      <th>75%</th>\n",
       "      <td>547.750000</td>\n",
       "      <td>3.000000</td>\n",
       "      <td>1.000000</td>\n",
       "      <td>10.000000</td>\n",
       "      <td>0.000000</td>\n",
       "      <td>5.000000</td>\n",
       "      <td>1.000000</td>\n",
       "      <td>2.000000</td>\n",
       "      <td>26.880615</td>\n",
       "      <td>30.445775</td>\n",
       "      <td>72.989575</td>\n",
       "      <td>15.625589</td>\n",
       "      <td>1096.500000</td>\n",
       "      <td>4783.250000</td>\n",
       "      <td>5966.000000</td>\n",
       "    </tr>\n",
       "    <tr>\n",
       "      <th>max</th>\n",
       "      <td>730.000000</td>\n",
       "      <td>4.000000</td>\n",
       "      <td>1.000000</td>\n",
       "      <td>12.000000</td>\n",
       "      <td>1.000000</td>\n",
       "      <td>6.000000</td>\n",
       "      <td>1.000000</td>\n",
       "      <td>3.000000</td>\n",
       "      <td>35.328347</td>\n",
       "      <td>42.044800</td>\n",
       "      <td>97.250000</td>\n",
       "      <td>34.000021</td>\n",
       "      <td>3410.000000</td>\n",
       "      <td>6946.000000</td>\n",
       "      <td>8714.000000</td>\n",
       "    </tr>\n",
       "  </tbody>\n",
       "</table>\n",
       "</div>"
      ],
      "text/plain": [
       "          instant      season          yr        mnth     holiday     weekday  \\\n",
       "count  730.000000  730.000000  730.000000  730.000000  730.000000  730.000000   \n",
       "mean   365.500000    2.498630    0.500000    6.526027    0.028767    2.997260   \n",
       "std    210.877136    1.110184    0.500343    3.450215    0.167266    2.006161   \n",
       "min      1.000000    1.000000    0.000000    1.000000    0.000000    0.000000   \n",
       "25%    183.250000    2.000000    0.000000    4.000000    0.000000    1.000000   \n",
       "50%    365.500000    3.000000    0.500000    7.000000    0.000000    3.000000   \n",
       "75%    547.750000    3.000000    1.000000   10.000000    0.000000    5.000000   \n",
       "max    730.000000    4.000000    1.000000   12.000000    1.000000    6.000000   \n",
       "\n",
       "       workingday  weathersit        temp       atemp         hum   windspeed  \\\n",
       "count  730.000000  730.000000  730.000000  730.000000  730.000000  730.000000   \n",
       "mean     0.683562    1.394521   20.319259   23.726322   62.765175   12.763620   \n",
       "std      0.465405    0.544807    7.506729    8.150308   14.237589    5.195841   \n",
       "min      0.000000    1.000000    2.424346    3.953480    0.000000    1.500244   \n",
       "25%      0.000000    1.000000   13.811885   16.889713   52.000000    9.041650   \n",
       "50%      1.000000    1.000000   20.465826   24.368225   62.625000   12.125325   \n",
       "75%      1.000000    2.000000   26.880615   30.445775   72.989575   15.625589   \n",
       "max      1.000000    3.000000   35.328347   42.044800   97.250000   34.000021   \n",
       "\n",
       "            casual   registered          cnt  \n",
       "count   730.000000   730.000000   730.000000  \n",
       "mean    849.249315  3658.757534  4508.006849  \n",
       "std     686.479875  1559.758728  1936.011647  \n",
       "min       2.000000    20.000000    22.000000  \n",
       "25%     316.250000  2502.250000  3169.750000  \n",
       "50%     717.000000  3664.500000  4548.500000  \n",
       "75%    1096.500000  4783.250000  5966.000000  \n",
       "max    3410.000000  6946.000000  8714.000000  "
      ]
     },
     "execution_count": 7,
     "metadata": {},
     "output_type": "execute_result"
    }
   ],
   "source": [
    "df.describe()"
   ]
  },
  {
   "cell_type": "markdown",
   "id": "debb3c34",
   "metadata": {},
   "source": [
    "## Cleaning Data"
   ]
  },
  {
   "cell_type": "code",
   "execution_count": 8,
   "id": "f9ad4267",
   "metadata": {},
   "outputs": [],
   "source": [
    "# instant column is just like ID, it doesnt give any info, hence drop it\n",
    "df.drop([\"instant\"],inplace=True,axis=1)"
   ]
  },
  {
   "cell_type": "code",
   "execution_count": 9,
   "id": "0218a87d",
   "metadata": {},
   "outputs": [],
   "source": [
    "# We have month and year column already derived from dteday, so we drop it\n",
    "df.drop([\"dteday\"],inplace=True,axis=1)"
   ]
  },
  {
   "cell_type": "code",
   "execution_count": 10,
   "id": "da80ff71",
   "metadata": {},
   "outputs": [],
   "source": [
    "# casual + registered is cnt, so we drop it\n",
    "df.drop([\"casual\",\"registered\"],inplace=True,axis=1)"
   ]
  },
  {
   "cell_type": "code",
   "execution_count": 11,
   "id": "a82e22ce",
   "metadata": {},
   "outputs": [
    {
     "data": {
      "text/plain": [
       "array([1, 2, 3, 4])"
      ]
     },
     "execution_count": 11,
     "metadata": {},
     "output_type": "execute_result"
    }
   ],
   "source": [
    "df.season.unique()"
   ]
  },
  {
   "cell_type": "code",
   "execution_count": 12,
   "id": "bd475bb7",
   "metadata": {},
   "outputs": [],
   "source": [
    "df.season = df.season.replace({1: 'spring', 2: 'summer',3: 'fall',4: 'winter'})"
   ]
  },
  {
   "cell_type": "code",
   "execution_count": 13,
   "id": "e6d4a036",
   "metadata": {},
   "outputs": [
    {
     "data": {
      "text/html": [
       "<div>\n",
       "<style scoped>\n",
       "    .dataframe tbody tr th:only-of-type {\n",
       "        vertical-align: middle;\n",
       "    }\n",
       "\n",
       "    .dataframe tbody tr th {\n",
       "        vertical-align: top;\n",
       "    }\n",
       "\n",
       "    .dataframe thead th {\n",
       "        text-align: right;\n",
       "    }\n",
       "</style>\n",
       "<table border=\"1\" class=\"dataframe\">\n",
       "  <thead>\n",
       "    <tr style=\"text-align: right;\">\n",
       "      <th></th>\n",
       "      <th>season</th>\n",
       "      <th>yr</th>\n",
       "      <th>mnth</th>\n",
       "      <th>holiday</th>\n",
       "      <th>weekday</th>\n",
       "      <th>workingday</th>\n",
       "      <th>weathersit</th>\n",
       "      <th>temp</th>\n",
       "      <th>atemp</th>\n",
       "      <th>hum</th>\n",
       "      <th>windspeed</th>\n",
       "      <th>cnt</th>\n",
       "    </tr>\n",
       "  </thead>\n",
       "  <tbody>\n",
       "    <tr>\n",
       "      <th>669</th>\n",
       "      <td>winter</td>\n",
       "      <td>1</td>\n",
       "      <td>11</td>\n",
       "      <td>0</td>\n",
       "      <td>4</td>\n",
       "      <td>1</td>\n",
       "      <td>2</td>\n",
       "      <td>14.999153</td>\n",
       "      <td>18.49710</td>\n",
       "      <td>58.1667</td>\n",
       "      <td>10.542182</td>\n",
       "      <td>5986</td>\n",
       "    </tr>\n",
       "    <tr>\n",
       "      <th>360</th>\n",
       "      <td>spring</td>\n",
       "      <td>0</td>\n",
       "      <td>12</td>\n",
       "      <td>0</td>\n",
       "      <td>2</td>\n",
       "      <td>1</td>\n",
       "      <td>2</td>\n",
       "      <td>13.325000</td>\n",
       "      <td>16.38165</td>\n",
       "      <td>76.2500</td>\n",
       "      <td>12.626150</td>\n",
       "      <td>1162</td>\n",
       "    </tr>\n",
       "    <tr>\n",
       "      <th>176</th>\n",
       "      <td>fall</td>\n",
       "      <td>0</td>\n",
       "      <td>6</td>\n",
       "      <td>0</td>\n",
       "      <td>0</td>\n",
       "      <td>0</td>\n",
       "      <td>1</td>\n",
       "      <td>27.880000</td>\n",
       "      <td>31.88145</td>\n",
       "      <td>51.3333</td>\n",
       "      <td>6.333731</td>\n",
       "      <td>5305</td>\n",
       "    </tr>\n",
       "    <tr>\n",
       "      <th>490</th>\n",
       "      <td>summer</td>\n",
       "      <td>1</td>\n",
       "      <td>5</td>\n",
       "      <td>0</td>\n",
       "      <td>0</td>\n",
       "      <td>0</td>\n",
       "      <td>2</td>\n",
       "      <td>23.062500</td>\n",
       "      <td>27.33685</td>\n",
       "      <td>74.0000</td>\n",
       "      <td>10.041893</td>\n",
       "      <td>6359</td>\n",
       "    </tr>\n",
       "    <tr>\n",
       "      <th>226</th>\n",
       "      <td>fall</td>\n",
       "      <td>0</td>\n",
       "      <td>8</td>\n",
       "      <td>0</td>\n",
       "      <td>1</td>\n",
       "      <td>1</td>\n",
       "      <td>1</td>\n",
       "      <td>27.299153</td>\n",
       "      <td>30.80835</td>\n",
       "      <td>71.2083</td>\n",
       "      <td>13.999918</td>\n",
       "      <td>4338</td>\n",
       "    </tr>\n",
       "  </tbody>\n",
       "</table>\n",
       "</div>"
      ],
      "text/plain": [
       "     season  yr  mnth  holiday  weekday  workingday  weathersit       temp  \\\n",
       "669  winter   1    11        0        4           1           2  14.999153   \n",
       "360  spring   0    12        0        2           1           2  13.325000   \n",
       "176    fall   0     6        0        0           0           1  27.880000   \n",
       "490  summer   1     5        0        0           0           2  23.062500   \n",
       "226    fall   0     8        0        1           1           1  27.299153   \n",
       "\n",
       "        atemp      hum  windspeed   cnt  \n",
       "669  18.49710  58.1667  10.542182  5986  \n",
       "360  16.38165  76.2500  12.626150  1162  \n",
       "176  31.88145  51.3333   6.333731  5305  \n",
       "490  27.33685  74.0000  10.041893  6359  \n",
       "226  30.80835  71.2083  13.999918  4338  "
      ]
     },
     "execution_count": 13,
     "metadata": {},
     "output_type": "execute_result"
    }
   ],
   "source": [
    "df.sample(5)"
   ]
  },
  {
   "cell_type": "code",
   "execution_count": 14,
   "id": "323e46e3",
   "metadata": {},
   "outputs": [
    {
     "data": {
      "text/plain": [
       "array([6, 0, 1, 2, 3, 4, 5])"
      ]
     },
     "execution_count": 14,
     "metadata": {},
     "output_type": "execute_result"
    }
   ],
   "source": [
    "df.weekday.unique()"
   ]
  },
  {
   "cell_type": "code",
   "execution_count": 15,
   "id": "589224d0",
   "metadata": {},
   "outputs": [],
   "source": [
    "# converting weekdays to categorical names, not sure what 0 indicates whether sunday or tuesday as per calendar\n",
    "df.weekday = df.weekday.replace({0: 'day0',1: 'day1',2: 'day2',3: 'day3',4: 'day4',5: 'day5',6: 'day6'})"
   ]
  },
  {
   "cell_type": "code",
   "execution_count": 16,
   "id": "195c13b4",
   "metadata": {},
   "outputs": [
    {
     "data": {
      "text/plain": [
       "array([ 1,  2,  3,  4,  5,  6,  7,  8,  9, 10, 11, 12])"
      ]
     },
     "execution_count": 16,
     "metadata": {},
     "output_type": "execute_result"
    }
   ],
   "source": [
    "df.mnth.unique()"
   ]
  },
  {
   "cell_type": "code",
   "execution_count": 17,
   "id": "15631d49",
   "metadata": {},
   "outputs": [],
   "source": [
    "df.mnth = df.mnth.replace({1: 'jan',2: 'feb',3: 'mar',4: 'apr',5: 'may',6: 'jun',7:'jul',8:'aug',9:'sep',10:'oct',11:'nov',12:'dec'})"
   ]
  },
  {
   "cell_type": "code",
   "execution_count": 18,
   "id": "9fbc05c9",
   "metadata": {},
   "outputs": [
    {
     "data": {
      "text/plain": [
       "array([2, 1, 3])"
      ]
     },
     "execution_count": 18,
     "metadata": {},
     "output_type": "execute_result"
    }
   ],
   "source": [
    "df.weathersit.unique()"
   ]
  },
  {
   "cell_type": "code",
   "execution_count": 19,
   "id": "19929842",
   "metadata": {},
   "outputs": [],
   "source": [
    "df.weathersit = df.weathersit.replace({1:\"weather1\",2:\"weather2\",3:\"weather3\"})"
   ]
  },
  {
   "cell_type": "markdown",
   "id": "331cd7c8",
   "metadata": {},
   "source": [
    "- weather1 : Clear, Few clouds, Partly cloudy\n",
    "- weather2: Mist + Cloudy, Mist + Broken clouds, Mist + Few clouds, Mist\n",
    "- weather3: Light Snow, Light Rain + Thunderstorm + Scattered clouds, Light Rain + Scattered clouds"
   ]
  },
  {
   "cell_type": "code",
   "execution_count": 20,
   "id": "7d74a177",
   "metadata": {},
   "outputs": [
    {
     "data": {
      "text/html": [
       "<div>\n",
       "<style scoped>\n",
       "    .dataframe tbody tr th:only-of-type {\n",
       "        vertical-align: middle;\n",
       "    }\n",
       "\n",
       "    .dataframe tbody tr th {\n",
       "        vertical-align: top;\n",
       "    }\n",
       "\n",
       "    .dataframe thead th {\n",
       "        text-align: right;\n",
       "    }\n",
       "</style>\n",
       "<table border=\"1\" class=\"dataframe\">\n",
       "  <thead>\n",
       "    <tr style=\"text-align: right;\">\n",
       "      <th></th>\n",
       "      <th>season</th>\n",
       "      <th>yr</th>\n",
       "      <th>mnth</th>\n",
       "      <th>holiday</th>\n",
       "      <th>weekday</th>\n",
       "      <th>workingday</th>\n",
       "      <th>weathersit</th>\n",
       "      <th>temp</th>\n",
       "      <th>atemp</th>\n",
       "      <th>hum</th>\n",
       "      <th>windspeed</th>\n",
       "      <th>cnt</th>\n",
       "    </tr>\n",
       "  </thead>\n",
       "  <tbody>\n",
       "    <tr>\n",
       "      <th>720</th>\n",
       "      <td>spring</td>\n",
       "      <td>1</td>\n",
       "      <td>dec</td>\n",
       "      <td>0</td>\n",
       "      <td>day6</td>\n",
       "      <td>0</td>\n",
       "      <td>weather1</td>\n",
       "      <td>10.899153</td>\n",
       "      <td>11.80565</td>\n",
       "      <td>44.1250</td>\n",
       "      <td>27.292182</td>\n",
       "      <td>1749</td>\n",
       "    </tr>\n",
       "    <tr>\n",
       "      <th>721</th>\n",
       "      <td>spring</td>\n",
       "      <td>1</td>\n",
       "      <td>dec</td>\n",
       "      <td>0</td>\n",
       "      <td>day0</td>\n",
       "      <td>0</td>\n",
       "      <td>weather1</td>\n",
       "      <td>10.079153</td>\n",
       "      <td>12.97355</td>\n",
       "      <td>51.5417</td>\n",
       "      <td>8.916561</td>\n",
       "      <td>1787</td>\n",
       "    </tr>\n",
       "    <tr>\n",
       "      <th>722</th>\n",
       "      <td>spring</td>\n",
       "      <td>1</td>\n",
       "      <td>dec</td>\n",
       "      <td>0</td>\n",
       "      <td>day1</td>\n",
       "      <td>1</td>\n",
       "      <td>weather2</td>\n",
       "      <td>9.483464</td>\n",
       "      <td>12.94500</td>\n",
       "      <td>79.1304</td>\n",
       "      <td>5.174437</td>\n",
       "      <td>920</td>\n",
       "    </tr>\n",
       "    <tr>\n",
       "      <th>723</th>\n",
       "      <td>spring</td>\n",
       "      <td>1</td>\n",
       "      <td>dec</td>\n",
       "      <td>1</td>\n",
       "      <td>day2</td>\n",
       "      <td>0</td>\n",
       "      <td>weather2</td>\n",
       "      <td>11.943464</td>\n",
       "      <td>14.72325</td>\n",
       "      <td>73.4783</td>\n",
       "      <td>11.304642</td>\n",
       "      <td>1013</td>\n",
       "    </tr>\n",
       "    <tr>\n",
       "      <th>724</th>\n",
       "      <td>spring</td>\n",
       "      <td>1</td>\n",
       "      <td>dec</td>\n",
       "      <td>0</td>\n",
       "      <td>day3</td>\n",
       "      <td>1</td>\n",
       "      <td>weather3</td>\n",
       "      <td>9.976653</td>\n",
       "      <td>11.01665</td>\n",
       "      <td>82.3333</td>\n",
       "      <td>21.208582</td>\n",
       "      <td>441</td>\n",
       "    </tr>\n",
       "    <tr>\n",
       "      <th>725</th>\n",
       "      <td>spring</td>\n",
       "      <td>1</td>\n",
       "      <td>dec</td>\n",
       "      <td>0</td>\n",
       "      <td>day4</td>\n",
       "      <td>1</td>\n",
       "      <td>weather2</td>\n",
       "      <td>10.420847</td>\n",
       "      <td>11.33210</td>\n",
       "      <td>65.2917</td>\n",
       "      <td>23.458911</td>\n",
       "      <td>2114</td>\n",
       "    </tr>\n",
       "    <tr>\n",
       "      <th>726</th>\n",
       "      <td>spring</td>\n",
       "      <td>1</td>\n",
       "      <td>dec</td>\n",
       "      <td>0</td>\n",
       "      <td>day5</td>\n",
       "      <td>1</td>\n",
       "      <td>weather2</td>\n",
       "      <td>10.386653</td>\n",
       "      <td>12.75230</td>\n",
       "      <td>59.0000</td>\n",
       "      <td>10.416557</td>\n",
       "      <td>3095</td>\n",
       "    </tr>\n",
       "    <tr>\n",
       "      <th>727</th>\n",
       "      <td>spring</td>\n",
       "      <td>1</td>\n",
       "      <td>dec</td>\n",
       "      <td>0</td>\n",
       "      <td>day6</td>\n",
       "      <td>0</td>\n",
       "      <td>weather2</td>\n",
       "      <td>10.386653</td>\n",
       "      <td>12.12000</td>\n",
       "      <td>75.2917</td>\n",
       "      <td>8.333661</td>\n",
       "      <td>1341</td>\n",
       "    </tr>\n",
       "    <tr>\n",
       "      <th>728</th>\n",
       "      <td>spring</td>\n",
       "      <td>1</td>\n",
       "      <td>dec</td>\n",
       "      <td>0</td>\n",
       "      <td>day0</td>\n",
       "      <td>0</td>\n",
       "      <td>weather1</td>\n",
       "      <td>10.489153</td>\n",
       "      <td>11.58500</td>\n",
       "      <td>48.3333</td>\n",
       "      <td>23.500518</td>\n",
       "      <td>1796</td>\n",
       "    </tr>\n",
       "    <tr>\n",
       "      <th>729</th>\n",
       "      <td>spring</td>\n",
       "      <td>1</td>\n",
       "      <td>dec</td>\n",
       "      <td>0</td>\n",
       "      <td>day1</td>\n",
       "      <td>1</td>\n",
       "      <td>weather2</td>\n",
       "      <td>8.849153</td>\n",
       "      <td>11.17435</td>\n",
       "      <td>57.7500</td>\n",
       "      <td>10.374682</td>\n",
       "      <td>2729</td>\n",
       "    </tr>\n",
       "  </tbody>\n",
       "</table>\n",
       "</div>"
      ],
      "text/plain": [
       "     season  yr mnth  holiday weekday  workingday weathersit       temp  \\\n",
       "720  spring   1  dec        0    day6           0   weather1  10.899153   \n",
       "721  spring   1  dec        0    day0           0   weather1  10.079153   \n",
       "722  spring   1  dec        0    day1           1   weather2   9.483464   \n",
       "723  spring   1  dec        1    day2           0   weather2  11.943464   \n",
       "724  spring   1  dec        0    day3           1   weather3   9.976653   \n",
       "725  spring   1  dec        0    day4           1   weather2  10.420847   \n",
       "726  spring   1  dec        0    day5           1   weather2  10.386653   \n",
       "727  spring   1  dec        0    day6           0   weather2  10.386653   \n",
       "728  spring   1  dec        0    day0           0   weather1  10.489153   \n",
       "729  spring   1  dec        0    day1           1   weather2   8.849153   \n",
       "\n",
       "        atemp      hum  windspeed   cnt  \n",
       "720  11.80565  44.1250  27.292182  1749  \n",
       "721  12.97355  51.5417   8.916561  1787  \n",
       "722  12.94500  79.1304   5.174437   920  \n",
       "723  14.72325  73.4783  11.304642  1013  \n",
       "724  11.01665  82.3333  21.208582   441  \n",
       "725  11.33210  65.2917  23.458911  2114  \n",
       "726  12.75230  59.0000  10.416557  3095  \n",
       "727  12.12000  75.2917   8.333661  1341  \n",
       "728  11.58500  48.3333  23.500518  1796  \n",
       "729  11.17435  57.7500  10.374682  2729  "
      ]
     },
     "execution_count": 20,
     "metadata": {},
     "output_type": "execute_result"
    }
   ],
   "source": [
    "df.tail(10)"
   ]
  },
  {
   "cell_type": "code",
   "execution_count": null,
   "id": "d8eb6ccb",
   "metadata": {},
   "outputs": [],
   "source": []
  },
  {
   "cell_type": "markdown",
   "id": "9d20fbb0",
   "metadata": {},
   "source": [
    "## Data Visualization"
   ]
  },
  {
   "cell_type": "code",
   "execution_count": 21,
   "id": "6153cb8b",
   "metadata": {},
   "outputs": [
    {
     "data": {
      "text/html": [
       "<div>\n",
       "<style scoped>\n",
       "    .dataframe tbody tr th:only-of-type {\n",
       "        vertical-align: middle;\n",
       "    }\n",
       "\n",
       "    .dataframe tbody tr th {\n",
       "        vertical-align: top;\n",
       "    }\n",
       "\n",
       "    .dataframe thead th {\n",
       "        text-align: right;\n",
       "    }\n",
       "</style>\n",
       "<table border=\"1\" class=\"dataframe\">\n",
       "  <thead>\n",
       "    <tr style=\"text-align: right;\">\n",
       "      <th></th>\n",
       "      <th>cnt</th>\n",
       "      <th>temp</th>\n",
       "      <th>atemp</th>\n",
       "      <th>hum</th>\n",
       "      <th>windspeed</th>\n",
       "    </tr>\n",
       "  </thead>\n",
       "  <tbody>\n",
       "    <tr>\n",
       "      <th>cnt</th>\n",
       "      <td>1.000000</td>\n",
       "      <td>0.627044</td>\n",
       "      <td>0.630685</td>\n",
       "      <td>-0.098543</td>\n",
       "      <td>-0.235132</td>\n",
       "    </tr>\n",
       "    <tr>\n",
       "      <th>temp</th>\n",
       "      <td>0.627044</td>\n",
       "      <td>1.000000</td>\n",
       "      <td>0.991696</td>\n",
       "      <td>0.128565</td>\n",
       "      <td>-0.158186</td>\n",
       "    </tr>\n",
       "    <tr>\n",
       "      <th>atemp</th>\n",
       "      <td>0.630685</td>\n",
       "      <td>0.991696</td>\n",
       "      <td>1.000000</td>\n",
       "      <td>0.141512</td>\n",
       "      <td>-0.183876</td>\n",
       "    </tr>\n",
       "    <tr>\n",
       "      <th>hum</th>\n",
       "      <td>-0.098543</td>\n",
       "      <td>0.128565</td>\n",
       "      <td>0.141512</td>\n",
       "      <td>1.000000</td>\n",
       "      <td>-0.248506</td>\n",
       "    </tr>\n",
       "    <tr>\n",
       "      <th>windspeed</th>\n",
       "      <td>-0.235132</td>\n",
       "      <td>-0.158186</td>\n",
       "      <td>-0.183876</td>\n",
       "      <td>-0.248506</td>\n",
       "      <td>1.000000</td>\n",
       "    </tr>\n",
       "  </tbody>\n",
       "</table>\n",
       "</div>"
      ],
      "text/plain": [
       "                cnt      temp     atemp       hum  windspeed\n",
       "cnt        1.000000  0.627044  0.630685 -0.098543  -0.235132\n",
       "temp       0.627044  1.000000  0.991696  0.128565  -0.158186\n",
       "atemp      0.630685  0.991696  1.000000  0.141512  -0.183876\n",
       "hum       -0.098543  0.128565  0.141512  1.000000  -0.248506\n",
       "windspeed -0.235132 -0.158186 -0.183876 -0.248506   1.000000"
      ]
     },
     "execution_count": 21,
     "metadata": {},
     "output_type": "execute_result"
    }
   ],
   "source": [
    "df[[\"cnt\",\"temp\",\"atemp\",\"hum\",\"windspeed\"]].corr()"
   ]
  },
  {
   "cell_type": "code",
   "execution_count": 22,
   "id": "4c978796",
   "metadata": {},
   "outputs": [
    {
     "data": {
      "image/png": "[encoded data removed]",
      "text/plain": [
       "<Figure size 432x288 with 2 Axes>"
      ]
     },
     "metadata": {
      "needs_background": "light"
     },
     "output_type": "display_data"
    }
   ],
   "source": [
    "sns.heatmap(df[[\"cnt\",\"temp\",\"atemp\",\"hum\",\"windspeed\"]].corr(),annot= True,cmap=\"BuPu\")\n",
    "plt.show()"
   ]
  },
  {
   "cell_type": "markdown",
   "id": "1b65fda8",
   "metadata": {},
   "source": [
    "temp is highly correlated with atemp<br>\n",
    "temp and atemp are also moderately correlated with cnt"
   ]
  },
  {
   "cell_type": "code",
   "execution_count": 23,
   "id": "f7e2685a",
   "metadata": {},
   "outputs": [
    {
     "data": {
      "image/png": "[encoded data removed]",
      "text/plain": [
       "<Figure size 432x288 with 1 Axes>"
      ]
     },
     "metadata": {
      "needs_background": "light"
     },
     "output_type": "display_data"
    }
   ],
   "source": [
    "df.groupby(\"holiday\")[\"cnt\"].median().plot.bar()\n",
    "plt.show()"
   ]
  },
  {
   "cell_type": "markdown",
   "id": "4ff3ad1c",
   "metadata": {},
   "source": [
    "there is less usage of bikes during holiday, as the holiday could be due to festival or govt holiday, people tend to stay in home"
   ]
  },
  {
   "cell_type": "code",
   "execution_count": 24,
   "id": "a2e9d974",
   "metadata": {},
   "outputs": [
    {
     "data": {
      "image/png": "[encoded data removed]",
      "text/plain": [
       "<Figure size 432x288 with 1 Axes>"
      ]
     },
     "metadata": {
      "needs_background": "light"
     },
     "output_type": "display_data"
    }
   ],
   "source": [
    "df.groupby([\"season\"])[\"cnt\"].median().plot.bar()\n",
    "plt.show()"
   ]
  },
  {
   "cell_type": "markdown",
   "id": "e79d9a5e",
   "metadata": {},
   "source": [
    "during fall most bikeshares happend, and less during spring"
   ]
  },
  {
   "cell_type": "code",
   "execution_count": 25,
   "id": "091fd34f",
   "metadata": {},
   "outputs": [
    {
     "data": {
      "image/png": "[encoded data removed]",
      "text/plain": [
       "<Figure size 1440x864 with 6 Axes>"
      ]
     },
     "metadata": {
      "needs_background": "light"
     },
     "output_type": "display_data"
    }
   ],
   "source": [
    "\n",
    "plt.figure(figsize=(20, 12))\n",
    "catg_vars = ['season','mnth','holiday','weathersit','yr','weekday']\n",
    "\n",
    "i=1\n",
    "for var in catg_vars:\n",
    "    plt.subplot(2,3,i)\n",
    "    sns.boxplot(x = var, y = 'cnt', data = df)\n",
    "    i+=1\n",
    "plt.show()  "
   ]
  },
  {
   "cell_type": "markdown",
   "id": "c61b576c",
   "metadata": {},
   "source": [
    "Inference:\n",
    "- There are not much outliers in the data\n",
    "- Bike Sharing is more in september month\n",
    "- Bike sharing is more during Clear, Few clouds, Partly cloudy weather\n",
    "- Bike sharing increased more in 2019 year\n",
    "- Bike sharing is more during monday"
   ]
  },
  {
   "cell_type": "code",
   "execution_count": 26,
   "id": "93fafb50",
   "metadata": {},
   "outputs": [
    {
     "data": {
      "image/png": "[encoded data removed]",
      "text/plain": [
       "<Figure size 1411.2x504 with 4 Axes>"
      ]
     },
     "metadata": {
      "needs_background": "light"
     },
     "output_type": "display_data"
    }
   ],
   "source": [
    "sns.pairplot(df, x_vars=[\"temp\",\"atemp\",\"hum\",\"windspeed\"], y_vars='cnt', size=7, aspect=0.7)\n",
    "plt.show()"
   ]
  },
  {
   "cell_type": "markdown",
   "id": "3cde263c",
   "metadata": {},
   "source": [
    "temp and atemp has some linear relationship with cnt"
   ]
  },
  {
   "cell_type": "markdown",
   "id": "c3d25fdd",
   "metadata": {},
   "source": [
    "## Data Preparation"
   ]
  },
  {
   "cell_type": "markdown",
   "id": "5faa7a38",
   "metadata": {},
   "source": [
    "### Encode categorical columns to dummy variables"
   ]
  },
  {
   "cell_type": "code",
   "execution_count": 27,
   "id": "c4cbca5e",
   "metadata": {},
   "outputs": [],
   "source": [
    "# Get the dummy variables for the feature 'season' and store it in a new variable - 'seasondummy'\n",
    "seasondummy = pd.get_dummies(df['season'])"
   ]
  },
  {
   "cell_type": "code",
   "execution_count": 28,
   "id": "f04a8738",
   "metadata": {},
   "outputs": [
    {
     "data": {
      "text/html": [
       "<div>\n",
       "<style scoped>\n",
       "    .dataframe tbody tr th:only-of-type {\n",
       "        vertical-align: middle;\n",
       "    }\n",
       "\n",
       "    .dataframe tbody tr th {\n",
       "        vertical-align: top;\n",
       "    }\n",
       "\n",
       "    .dataframe thead th {\n",
       "        text-align: right;\n",
       "    }\n",
       "</style>\n",
       "<table border=\"1\" class=\"dataframe\">\n",
       "  <thead>\n",
       "    <tr style=\"text-align: right;\">\n",
       "      <th></th>\n",
       "      <th>fall</th>\n",
       "      <th>spring</th>\n",
       "      <th>summer</th>\n",
       "      <th>winter</th>\n",
       "    </tr>\n",
       "  </thead>\n",
       "  <tbody>\n",
       "    <tr>\n",
       "      <th>97</th>\n",
       "      <td>0</td>\n",
       "      <td>0</td>\n",
       "      <td>1</td>\n",
       "      <td>0</td>\n",
       "    </tr>\n",
       "    <tr>\n",
       "      <th>39</th>\n",
       "      <td>0</td>\n",
       "      <td>1</td>\n",
       "      <td>0</td>\n",
       "      <td>0</td>\n",
       "    </tr>\n",
       "    <tr>\n",
       "      <th>715</th>\n",
       "      <td>0</td>\n",
       "      <td>0</td>\n",
       "      <td>0</td>\n",
       "      <td>1</td>\n",
       "    </tr>\n",
       "    <tr>\n",
       "      <th>111</th>\n",
       "      <td>0</td>\n",
       "      <td>0</td>\n",
       "      <td>1</td>\n",
       "      <td>0</td>\n",
       "    </tr>\n",
       "    <tr>\n",
       "      <th>677</th>\n",
       "      <td>0</td>\n",
       "      <td>0</td>\n",
       "      <td>0</td>\n",
       "      <td>1</td>\n",
       "    </tr>\n",
       "  </tbody>\n",
       "</table>\n",
       "</div>"
      ],
      "text/plain": [
       "     fall  spring  summer  winter\n",
       "97      0       0       1       0\n",
       "39      0       1       0       0\n",
       "715     0       0       0       1\n",
       "111     0       0       1       0\n",
       "677     0       0       0       1"
      ]
     },
     "execution_count": 28,
     "metadata": {},
     "output_type": "execute_result"
    }
   ],
   "source": [
    "seasondummy.sample(5)"
   ]
  },
  {
   "cell_type": "markdown",
   "id": "119ee82f",
   "metadata": {},
   "source": [
    "- 000- fall\n",
    "- 010- summer\n",
    "- 001- winter\n",
    "- 100- spring\n",
    "\n",
    "we can drop fall column as last 3 columns with 0's indicate fall"
   ]
  },
  {
   "cell_type": "code",
   "execution_count": 29,
   "id": "880fc52e",
   "metadata": {},
   "outputs": [],
   "source": [
    "seasondummy.drop([\"fall\"],inplace=True,axis=1)\n",
    "df=pd.concat([df,seasondummy],axis=1)"
   ]
  },
  {
   "cell_type": "code",
   "execution_count": 30,
   "id": "5d3536dd",
   "metadata": {},
   "outputs": [
    {
     "data": {
      "text/html": [
       "<div>\n",
       "<style scoped>\n",
       "    .dataframe tbody tr th:only-of-type {\n",
       "        vertical-align: middle;\n",
       "    }\n",
       "\n",
       "    .dataframe tbody tr th {\n",
       "        vertical-align: top;\n",
       "    }\n",
       "\n",
       "    .dataframe thead th {\n",
       "        text-align: right;\n",
       "    }\n",
       "</style>\n",
       "<table border=\"1\" class=\"dataframe\">\n",
       "  <thead>\n",
       "    <tr style=\"text-align: right;\">\n",
       "      <th></th>\n",
       "      <th>season</th>\n",
       "      <th>yr</th>\n",
       "      <th>mnth</th>\n",
       "      <th>holiday</th>\n",
       "      <th>weekday</th>\n",
       "      <th>workingday</th>\n",
       "      <th>weathersit</th>\n",
       "      <th>temp</th>\n",
       "      <th>atemp</th>\n",
       "      <th>hum</th>\n",
       "      <th>windspeed</th>\n",
       "      <th>cnt</th>\n",
       "      <th>spring</th>\n",
       "      <th>summer</th>\n",
       "      <th>winter</th>\n",
       "    </tr>\n",
       "  </thead>\n",
       "  <tbody>\n",
       "    <tr>\n",
       "      <th>41</th>\n",
       "      <td>spring</td>\n",
       "      <td>0</td>\n",
       "      <td>feb</td>\n",
       "      <td>0</td>\n",
       "      <td>day5</td>\n",
       "      <td>1</td>\n",
       "      <td>weather1</td>\n",
       "      <td>7.752731</td>\n",
       "      <td>10.67545</td>\n",
       "      <td>50.6364</td>\n",
       "      <td>7.272850</td>\n",
       "      <td>1746</td>\n",
       "      <td>1</td>\n",
       "      <td>0</td>\n",
       "      <td>0</td>\n",
       "    </tr>\n",
       "    <tr>\n",
       "      <th>545</th>\n",
       "      <td>fall</td>\n",
       "      <td>1</td>\n",
       "      <td>jun</td>\n",
       "      <td>0</td>\n",
       "      <td>day6</td>\n",
       "      <td>0</td>\n",
       "      <td>weather1</td>\n",
       "      <td>31.365000</td>\n",
       "      <td>34.37540</td>\n",
       "      <td>60.1250</td>\n",
       "      <td>10.791757</td>\n",
       "      <td>5687</td>\n",
       "      <td>0</td>\n",
       "      <td>0</td>\n",
       "      <td>0</td>\n",
       "    </tr>\n",
       "    <tr>\n",
       "      <th>715</th>\n",
       "      <td>winter</td>\n",
       "      <td>1</td>\n",
       "      <td>dec</td>\n",
       "      <td>0</td>\n",
       "      <td>day1</td>\n",
       "      <td>1</td>\n",
       "      <td>weather2</td>\n",
       "      <td>16.126653</td>\n",
       "      <td>20.07500</td>\n",
       "      <td>90.7083</td>\n",
       "      <td>6.583306</td>\n",
       "      <td>4585</td>\n",
       "      <td>0</td>\n",
       "      <td>0</td>\n",
       "      <td>1</td>\n",
       "    </tr>\n",
       "    <tr>\n",
       "      <th>24</th>\n",
       "      <td>spring</td>\n",
       "      <td>0</td>\n",
       "      <td>jan</td>\n",
       "      <td>0</td>\n",
       "      <td>day2</td>\n",
       "      <td>1</td>\n",
       "      <td>weather2</td>\n",
       "      <td>9.162598</td>\n",
       "      <td>11.72630</td>\n",
       "      <td>61.6957</td>\n",
       "      <td>8.696332</td>\n",
       "      <td>1985</td>\n",
       "      <td>1</td>\n",
       "      <td>0</td>\n",
       "      <td>0</td>\n",
       "    </tr>\n",
       "    <tr>\n",
       "      <th>320</th>\n",
       "      <td>winter</td>\n",
       "      <td>0</td>\n",
       "      <td>nov</td>\n",
       "      <td>0</td>\n",
       "      <td>day4</td>\n",
       "      <td>1</td>\n",
       "      <td>weather2</td>\n",
       "      <td>14.008347</td>\n",
       "      <td>16.16105</td>\n",
       "      <td>57.5833</td>\n",
       "      <td>20.459254</td>\n",
       "      <td>3053</td>\n",
       "      <td>0</td>\n",
       "      <td>0</td>\n",
       "      <td>1</td>\n",
       "    </tr>\n",
       "  </tbody>\n",
       "</table>\n",
       "</div>"
      ],
      "text/plain": [
       "     season  yr mnth  holiday weekday  workingday weathersit       temp  \\\n",
       "41   spring   0  feb        0    day5           1   weather1   7.752731   \n",
       "545    fall   1  jun        0    day6           0   weather1  31.365000   \n",
       "715  winter   1  dec        0    day1           1   weather2  16.126653   \n",
       "24   spring   0  jan        0    day2           1   weather2   9.162598   \n",
       "320  winter   0  nov        0    day4           1   weather2  14.008347   \n",
       "\n",
       "        atemp      hum  windspeed   cnt  spring  summer  winter  \n",
       "41   10.67545  50.6364   7.272850  1746       1       0       0  \n",
       "545  34.37540  60.1250  10.791757  5687       0       0       0  \n",
       "715  20.07500  90.7083   6.583306  4585       0       0       1  \n",
       "24   11.72630  61.6957   8.696332  1985       1       0       0  \n",
       "320  16.16105  57.5833  20.459254  3053       0       0       1  "
      ]
     },
     "execution_count": 30,
     "metadata": {},
     "output_type": "execute_result"
    }
   ],
   "source": [
    "df.sample(5)"
   ]
  },
  {
   "cell_type": "code",
   "execution_count": 31,
   "id": "9296c015",
   "metadata": {},
   "outputs": [],
   "source": [
    "# Get the dummy variables for the feature 'weekday' and store it in a new variable - 'weekdaydummy'\n",
    "weekdaydummy = pd.get_dummies(df['weekday'])"
   ]
  },
  {
   "cell_type": "code",
   "execution_count": 32,
   "id": "ba2f07a5",
   "metadata": {},
   "outputs": [
    {
     "data": {
      "text/html": [
       "<div>\n",
       "<style scoped>\n",
       "    .dataframe tbody tr th:only-of-type {\n",
       "        vertical-align: middle;\n",
       "    }\n",
       "\n",
       "    .dataframe tbody tr th {\n",
       "        vertical-align: top;\n",
       "    }\n",
       "\n",
       "    .dataframe thead th {\n",
       "        text-align: right;\n",
       "    }\n",
       "</style>\n",
       "<table border=\"1\" class=\"dataframe\">\n",
       "  <thead>\n",
       "    <tr style=\"text-align: right;\">\n",
       "      <th></th>\n",
       "      <th>day0</th>\n",
       "      <th>day1</th>\n",
       "      <th>day2</th>\n",
       "      <th>day3</th>\n",
       "      <th>day4</th>\n",
       "      <th>day5</th>\n",
       "      <th>day6</th>\n",
       "    </tr>\n",
       "  </thead>\n",
       "  <tbody>\n",
       "    <tr>\n",
       "      <th>264</th>\n",
       "      <td>0</td>\n",
       "      <td>0</td>\n",
       "      <td>0</td>\n",
       "      <td>0</td>\n",
       "      <td>1</td>\n",
       "      <td>0</td>\n",
       "      <td>0</td>\n",
       "    </tr>\n",
       "    <tr>\n",
       "      <th>150</th>\n",
       "      <td>0</td>\n",
       "      <td>0</td>\n",
       "      <td>1</td>\n",
       "      <td>0</td>\n",
       "      <td>0</td>\n",
       "      <td>0</td>\n",
       "      <td>0</td>\n",
       "    </tr>\n",
       "    <tr>\n",
       "      <th>636</th>\n",
       "      <td>0</td>\n",
       "      <td>0</td>\n",
       "      <td>0</td>\n",
       "      <td>0</td>\n",
       "      <td>0</td>\n",
       "      <td>0</td>\n",
       "      <td>1</td>\n",
       "    </tr>\n",
       "    <tr>\n",
       "      <th>255</th>\n",
       "      <td>0</td>\n",
       "      <td>0</td>\n",
       "      <td>1</td>\n",
       "      <td>0</td>\n",
       "      <td>0</td>\n",
       "      <td>0</td>\n",
       "      <td>0</td>\n",
       "    </tr>\n",
       "    <tr>\n",
       "      <th>109</th>\n",
       "      <td>0</td>\n",
       "      <td>0</td>\n",
       "      <td>0</td>\n",
       "      <td>1</td>\n",
       "      <td>0</td>\n",
       "      <td>0</td>\n",
       "      <td>0</td>\n",
       "    </tr>\n",
       "  </tbody>\n",
       "</table>\n",
       "</div>"
      ],
      "text/plain": [
       "     day0  day1  day2  day3  day4  day5  day6\n",
       "264     0     0     0     0     1     0     0\n",
       "150     0     0     1     0     0     0     0\n",
       "636     0     0     0     0     0     0     1\n",
       "255     0     0     1     0     0     0     0\n",
       "109     0     0     0     1     0     0     0"
      ]
     },
     "execution_count": 32,
     "metadata": {},
     "output_type": "execute_result"
    }
   ],
   "source": [
    "weekdaydummy.sample(5)"
   ]
  },
  {
   "cell_type": "code",
   "execution_count": 33,
   "id": "64c20996",
   "metadata": {},
   "outputs": [],
   "source": [
    "# drop day0 as all 0's in remaning indicate day0\n",
    "weekdaydummy.drop([\"day0\"],inplace=True,axis=1)\n",
    "df=pd.concat([df,weekdaydummy],axis=1)"
   ]
  },
  {
   "cell_type": "code",
   "execution_count": 34,
   "id": "322aa467",
   "metadata": {},
   "outputs": [
    {
     "data": {
      "text/html": [
       "<div>\n",
       "<style scoped>\n",
       "    .dataframe tbody tr th:only-of-type {\n",
       "        vertical-align: middle;\n",
       "    }\n",
       "\n",
       "    .dataframe tbody tr th {\n",
       "        vertical-align: top;\n",
       "    }\n",
       "\n",
       "    .dataframe thead th {\n",
       "        text-align: right;\n",
       "    }\n",
       "</style>\n",
       "<table border=\"1\" class=\"dataframe\">\n",
       "  <thead>\n",
       "    <tr style=\"text-align: right;\">\n",
       "      <th></th>\n",
       "      <th>season</th>\n",
       "      <th>yr</th>\n",
       "      <th>mnth</th>\n",
       "      <th>holiday</th>\n",
       "      <th>weekday</th>\n",
       "      <th>workingday</th>\n",
       "      <th>weathersit</th>\n",
       "      <th>temp</th>\n",
       "      <th>atemp</th>\n",
       "      <th>hum</th>\n",
       "      <th>...</th>\n",
       "      <th>cnt</th>\n",
       "      <th>spring</th>\n",
       "      <th>summer</th>\n",
       "      <th>winter</th>\n",
       "      <th>day1</th>\n",
       "      <th>day2</th>\n",
       "      <th>day3</th>\n",
       "      <th>day4</th>\n",
       "      <th>day5</th>\n",
       "      <th>day6</th>\n",
       "    </tr>\n",
       "  </thead>\n",
       "  <tbody>\n",
       "    <tr>\n",
       "      <th>125</th>\n",
       "      <td>summer</td>\n",
       "      <td>0</td>\n",
       "      <td>may</td>\n",
       "      <td>0</td>\n",
       "      <td>day5</td>\n",
       "      <td>1</td>\n",
       "      <td>weather1</td>\n",
       "      <td>19.645847</td>\n",
       "      <td>23.70585</td>\n",
       "      <td>59.0000</td>\n",
       "      <td>...</td>\n",
       "      <td>4608</td>\n",
       "      <td>0</td>\n",
       "      <td>1</td>\n",
       "      <td>0</td>\n",
       "      <td>0</td>\n",
       "      <td>0</td>\n",
       "      <td>0</td>\n",
       "      <td>0</td>\n",
       "      <td>1</td>\n",
       "      <td>0</td>\n",
       "    </tr>\n",
       "    <tr>\n",
       "      <th>297</th>\n",
       "      <td>winter</td>\n",
       "      <td>0</td>\n",
       "      <td>oct</td>\n",
       "      <td>0</td>\n",
       "      <td>day2</td>\n",
       "      <td>1</td>\n",
       "      <td>weather1</td>\n",
       "      <td>19.338347</td>\n",
       "      <td>23.16875</td>\n",
       "      <td>62.2917</td>\n",
       "      <td>...</td>\n",
       "      <td>4687</td>\n",
       "      <td>0</td>\n",
       "      <td>0</td>\n",
       "      <td>1</td>\n",
       "      <td>0</td>\n",
       "      <td>1</td>\n",
       "      <td>0</td>\n",
       "      <td>0</td>\n",
       "      <td>0</td>\n",
       "      <td>0</td>\n",
       "    </tr>\n",
       "    <tr>\n",
       "      <th>77</th>\n",
       "      <td>spring</td>\n",
       "      <td>0</td>\n",
       "      <td>mar</td>\n",
       "      <td>0</td>\n",
       "      <td>day6</td>\n",
       "      <td>0</td>\n",
       "      <td>weather1</td>\n",
       "      <td>19.372500</td>\n",
       "      <td>23.32625</td>\n",
       "      <td>37.9167</td>\n",
       "      <td>...</td>\n",
       "      <td>3117</td>\n",
       "      <td>1</td>\n",
       "      <td>0</td>\n",
       "      <td>0</td>\n",
       "      <td>0</td>\n",
       "      <td>0</td>\n",
       "      <td>0</td>\n",
       "      <td>0</td>\n",
       "      <td>0</td>\n",
       "      <td>1</td>\n",
       "    </tr>\n",
       "    <tr>\n",
       "      <th>233</th>\n",
       "      <td>fall</td>\n",
       "      <td>0</td>\n",
       "      <td>aug</td>\n",
       "      <td>0</td>\n",
       "      <td>day1</td>\n",
       "      <td>1</td>\n",
       "      <td>weather1</td>\n",
       "      <td>28.358347</td>\n",
       "      <td>31.91270</td>\n",
       "      <td>47.0000</td>\n",
       "      <td>...</td>\n",
       "      <td>4758</td>\n",
       "      <td>0</td>\n",
       "      <td>0</td>\n",
       "      <td>0</td>\n",
       "      <td>1</td>\n",
       "      <td>0</td>\n",
       "      <td>0</td>\n",
       "      <td>0</td>\n",
       "      <td>0</td>\n",
       "      <td>0</td>\n",
       "    </tr>\n",
       "    <tr>\n",
       "      <th>596</th>\n",
       "      <td>fall</td>\n",
       "      <td>1</td>\n",
       "      <td>aug</td>\n",
       "      <td>0</td>\n",
       "      <td>day1</td>\n",
       "      <td>1</td>\n",
       "      <td>weather2</td>\n",
       "      <td>26.069153</td>\n",
       "      <td>29.79835</td>\n",
       "      <td>73.4167</td>\n",
       "      <td>...</td>\n",
       "      <td>6530</td>\n",
       "      <td>0</td>\n",
       "      <td>0</td>\n",
       "      <td>0</td>\n",
       "      <td>1</td>\n",
       "      <td>0</td>\n",
       "      <td>0</td>\n",
       "      <td>0</td>\n",
       "      <td>0</td>\n",
       "      <td>0</td>\n",
       "    </tr>\n",
       "  </tbody>\n",
       "</table>\n",
       "<p>5 rows × 21 columns</p>\n",
       "</div>"
      ],
      "text/plain": [
       "     season  yr mnth  holiday weekday  workingday weathersit       temp  \\\n",
       "125  summer   0  may        0    day5           1   weather1  19.645847   \n",
       "297  winter   0  oct        0    day2           1   weather1  19.338347   \n",
       "77   spring   0  mar        0    day6           0   weather1  19.372500   \n",
       "233    fall   0  aug        0    day1           1   weather1  28.358347   \n",
       "596    fall   1  aug        0    day1           1   weather2  26.069153   \n",
       "\n",
       "        atemp      hum  ...   cnt  spring  summer  winter  day1  day2  day3  \\\n",
       "125  23.70585  59.0000  ...  4608       0       1       0     0     0     0   \n",
       "297  23.16875  62.2917  ...  4687       0       0       1     0     1     0   \n",
       "77   23.32625  37.9167  ...  3117       1       0       0     0     0     0   \n",
       "233  31.91270  47.0000  ...  4758       0       0       0     1     0     0   \n",
       "596  29.79835  73.4167  ...  6530       0       0       0     1     0     0   \n",
       "\n",
       "     day4  day5  day6  \n",
       "125     0     1     0  \n",
       "297     0     0     0  \n",
       "77      0     0     1  \n",
       "233     0     0     0  \n",
       "596     0     0     0  \n",
       "\n",
       "[5 rows x 21 columns]"
      ]
     },
     "execution_count": 34,
     "metadata": {},
     "output_type": "execute_result"
    }
   ],
   "source": [
    "df.sample(5)"
   ]
  },
  {
   "cell_type": "code",
   "execution_count": 35,
   "id": "61c32a6f",
   "metadata": {},
   "outputs": [],
   "source": [
    "# Get the dummy variables for the feature 'mnth' and store it in a new variable - 'monthdummy'\n",
    "monthdummy = pd.get_dummies(df['mnth'])"
   ]
  },
  {
   "cell_type": "code",
   "execution_count": 36,
   "id": "4a2f06c9",
   "metadata": {},
   "outputs": [
    {
     "data": {
      "text/html": [
       "<div>\n",
       "<style scoped>\n",
       "    .dataframe tbody tr th:only-of-type {\n",
       "        vertical-align: middle;\n",
       "    }\n",
       "\n",
       "    .dataframe tbody tr th {\n",
       "        vertical-align: top;\n",
       "    }\n",
       "\n",
       "    .dataframe thead th {\n",
       "        text-align: right;\n",
       "    }\n",
       "</style>\n",
       "<table border=\"1\" class=\"dataframe\">\n",
       "  <thead>\n",
       "    <tr style=\"text-align: right;\">\n",
       "      <th></th>\n",
       "      <th>apr</th>\n",
       "      <th>aug</th>\n",
       "      <th>dec</th>\n",
       "      <th>feb</th>\n",
       "      <th>jan</th>\n",
       "      <th>jul</th>\n",
       "      <th>jun</th>\n",
       "      <th>mar</th>\n",
       "      <th>may</th>\n",
       "      <th>nov</th>\n",
       "      <th>oct</th>\n",
       "      <th>sep</th>\n",
       "    </tr>\n",
       "  </thead>\n",
       "  <tbody>\n",
       "    <tr>\n",
       "      <th>159</th>\n",
       "      <td>0</td>\n",
       "      <td>0</td>\n",
       "      <td>0</td>\n",
       "      <td>0</td>\n",
       "      <td>0</td>\n",
       "      <td>0</td>\n",
       "      <td>1</td>\n",
       "      <td>0</td>\n",
       "      <td>0</td>\n",
       "      <td>0</td>\n",
       "      <td>0</td>\n",
       "      <td>0</td>\n",
       "    </tr>\n",
       "    <tr>\n",
       "      <th>310</th>\n",
       "      <td>0</td>\n",
       "      <td>0</td>\n",
       "      <td>0</td>\n",
       "      <td>0</td>\n",
       "      <td>0</td>\n",
       "      <td>0</td>\n",
       "      <td>0</td>\n",
       "      <td>0</td>\n",
       "      <td>0</td>\n",
       "      <td>1</td>\n",
       "      <td>0</td>\n",
       "      <td>0</td>\n",
       "    </tr>\n",
       "    <tr>\n",
       "      <th>588</th>\n",
       "      <td>0</td>\n",
       "      <td>1</td>\n",
       "      <td>0</td>\n",
       "      <td>0</td>\n",
       "      <td>0</td>\n",
       "      <td>0</td>\n",
       "      <td>0</td>\n",
       "      <td>0</td>\n",
       "      <td>0</td>\n",
       "      <td>0</td>\n",
       "      <td>0</td>\n",
       "      <td>0</td>\n",
       "    </tr>\n",
       "    <tr>\n",
       "      <th>219</th>\n",
       "      <td>0</td>\n",
       "      <td>1</td>\n",
       "      <td>0</td>\n",
       "      <td>0</td>\n",
       "      <td>0</td>\n",
       "      <td>0</td>\n",
       "      <td>0</td>\n",
       "      <td>0</td>\n",
       "      <td>0</td>\n",
       "      <td>0</td>\n",
       "      <td>0</td>\n",
       "      <td>0</td>\n",
       "    </tr>\n",
       "    <tr>\n",
       "      <th>717</th>\n",
       "      <td>0</td>\n",
       "      <td>0</td>\n",
       "      <td>1</td>\n",
       "      <td>0</td>\n",
       "      <td>0</td>\n",
       "      <td>0</td>\n",
       "      <td>0</td>\n",
       "      <td>0</td>\n",
       "      <td>0</td>\n",
       "      <td>0</td>\n",
       "      <td>0</td>\n",
       "      <td>0</td>\n",
       "    </tr>\n",
       "  </tbody>\n",
       "</table>\n",
       "</div>"
      ],
      "text/plain": [
       "     apr  aug  dec  feb  jan  jul  jun  mar  may  nov  oct  sep\n",
       "159    0    0    0    0    0    0    1    0    0    0    0    0\n",
       "310    0    0    0    0    0    0    0    0    0    1    0    0\n",
       "588    0    1    0    0    0    0    0    0    0    0    0    0\n",
       "219    0    1    0    0    0    0    0    0    0    0    0    0\n",
       "717    0    0    1    0    0    0    0    0    0    0    0    0"
      ]
     },
     "execution_count": 36,
     "metadata": {},
     "output_type": "execute_result"
    }
   ],
   "source": [
    "monthdummy.sample(5)"
   ]
  },
  {
   "cell_type": "code",
   "execution_count": 37,
   "id": "0dc7971d",
   "metadata": {},
   "outputs": [],
   "source": [
    "# drop apr month as all 0's in remaning indicate apr\n",
    "monthdummy.drop([\"apr\"],inplace=True,axis=1)\n",
    "df=pd.concat([df,monthdummy],axis=1)"
   ]
  },
  {
   "cell_type": "code",
   "execution_count": 38,
   "id": "dd66c156",
   "metadata": {},
   "outputs": [
    {
     "data": {
      "text/html": [
       "<div>\n",
       "<style scoped>\n",
       "    .dataframe tbody tr th:only-of-type {\n",
       "        vertical-align: middle;\n",
       "    }\n",
       "\n",
       "    .dataframe tbody tr th {\n",
       "        vertical-align: top;\n",
       "    }\n",
       "\n",
       "    .dataframe thead th {\n",
       "        text-align: right;\n",
       "    }\n",
       "</style>\n",
       "<table border=\"1\" class=\"dataframe\">\n",
       "  <thead>\n",
       "    <tr style=\"text-align: right;\">\n",
       "      <th></th>\n",
       "      <th>season</th>\n",
       "      <th>yr</th>\n",
       "      <th>mnth</th>\n",
       "      <th>holiday</th>\n",
       "      <th>weekday</th>\n",
       "      <th>workingday</th>\n",
       "      <th>weathersit</th>\n",
       "      <th>temp</th>\n",
       "      <th>atemp</th>\n",
       "      <th>hum</th>\n",
       "      <th>...</th>\n",
       "      <th>dec</th>\n",
       "      <th>feb</th>\n",
       "      <th>jan</th>\n",
       "      <th>jul</th>\n",
       "      <th>jun</th>\n",
       "      <th>mar</th>\n",
       "      <th>may</th>\n",
       "      <th>nov</th>\n",
       "      <th>oct</th>\n",
       "      <th>sep</th>\n",
       "    </tr>\n",
       "  </thead>\n",
       "  <tbody>\n",
       "    <tr>\n",
       "      <th>10</th>\n",
       "      <td>spring</td>\n",
       "      <td>0</td>\n",
       "      <td>jan</td>\n",
       "      <td>0</td>\n",
       "      <td>day2</td>\n",
       "      <td>1</td>\n",
       "      <td>weather2</td>\n",
       "      <td>6.932731</td>\n",
       "      <td>9.57320</td>\n",
       "      <td>68.6364</td>\n",
       "      <td>...</td>\n",
       "      <td>0</td>\n",
       "      <td>0</td>\n",
       "      <td>1</td>\n",
       "      <td>0</td>\n",
       "      <td>0</td>\n",
       "      <td>0</td>\n",
       "      <td>0</td>\n",
       "      <td>0</td>\n",
       "      <td>0</td>\n",
       "      <td>0</td>\n",
       "    </tr>\n",
       "    <tr>\n",
       "      <th>146</th>\n",
       "      <td>summer</td>\n",
       "      <td>0</td>\n",
       "      <td>may</td>\n",
       "      <td>0</td>\n",
       "      <td>day5</td>\n",
       "      <td>1</td>\n",
       "      <td>weather1</td>\n",
       "      <td>27.948347</td>\n",
       "      <td>31.85040</td>\n",
       "      <td>65.3750</td>\n",
       "      <td>...</td>\n",
       "      <td>0</td>\n",
       "      <td>0</td>\n",
       "      <td>0</td>\n",
       "      <td>0</td>\n",
       "      <td>0</td>\n",
       "      <td>0</td>\n",
       "      <td>1</td>\n",
       "      <td>0</td>\n",
       "      <td>0</td>\n",
       "      <td>0</td>\n",
       "    </tr>\n",
       "    <tr>\n",
       "      <th>650</th>\n",
       "      <td>winter</td>\n",
       "      <td>1</td>\n",
       "      <td>oct</td>\n",
       "      <td>0</td>\n",
       "      <td>day6</td>\n",
       "      <td>0</td>\n",
       "      <td>weather1</td>\n",
       "      <td>16.126653</td>\n",
       "      <td>19.56980</td>\n",
       "      <td>49.4583</td>\n",
       "      <td>...</td>\n",
       "      <td>0</td>\n",
       "      <td>0</td>\n",
       "      <td>0</td>\n",
       "      <td>0</td>\n",
       "      <td>0</td>\n",
       "      <td>0</td>\n",
       "      <td>0</td>\n",
       "      <td>0</td>\n",
       "      <td>1</td>\n",
       "      <td>0</td>\n",
       "    </tr>\n",
       "    <tr>\n",
       "      <th>563</th>\n",
       "      <td>fall</td>\n",
       "      <td>1</td>\n",
       "      <td>jul</td>\n",
       "      <td>0</td>\n",
       "      <td>day3</td>\n",
       "      <td>1</td>\n",
       "      <td>weather1</td>\n",
       "      <td>32.526653</td>\n",
       "      <td>37.27915</td>\n",
       "      <td>57.7083</td>\n",
       "      <td>...</td>\n",
       "      <td>0</td>\n",
       "      <td>0</td>\n",
       "      <td>0</td>\n",
       "      <td>1</td>\n",
       "      <td>0</td>\n",
       "      <td>0</td>\n",
       "      <td>0</td>\n",
       "      <td>0</td>\n",
       "      <td>0</td>\n",
       "      <td>0</td>\n",
       "    </tr>\n",
       "    <tr>\n",
       "      <th>649</th>\n",
       "      <td>winter</td>\n",
       "      <td>1</td>\n",
       "      <td>oct</td>\n",
       "      <td>0</td>\n",
       "      <td>day5</td>\n",
       "      <td>1</td>\n",
       "      <td>weather1</td>\n",
       "      <td>17.937500</td>\n",
       "      <td>21.65355</td>\n",
       "      <td>53.9167</td>\n",
       "      <td>...</td>\n",
       "      <td>0</td>\n",
       "      <td>0</td>\n",
       "      <td>0</td>\n",
       "      <td>0</td>\n",
       "      <td>0</td>\n",
       "      <td>0</td>\n",
       "      <td>0</td>\n",
       "      <td>0</td>\n",
       "      <td>1</td>\n",
       "      <td>0</td>\n",
       "    </tr>\n",
       "  </tbody>\n",
       "</table>\n",
       "<p>5 rows × 32 columns</p>\n",
       "</div>"
      ],
      "text/plain": [
       "     season  yr mnth  holiday weekday  workingday weathersit       temp  \\\n",
       "10   spring   0  jan        0    day2           1   weather2   6.932731   \n",
       "146  summer   0  may        0    day5           1   weather1  27.948347   \n",
       "650  winter   1  oct        0    day6           0   weather1  16.126653   \n",
       "563    fall   1  jul        0    day3           1   weather1  32.526653   \n",
       "649  winter   1  oct        0    day5           1   weather1  17.937500   \n",
       "\n",
       "        atemp      hum  ...  dec  feb  jan  jul  jun  mar  may  nov  oct  sep  \n",
       "10    9.57320  68.6364  ...    0    0    1    0    0    0    0    0    0    0  \n",
       "146  31.85040  65.3750  ...    0    0    0    0    0    0    1    0    0    0  \n",
       "650  19.56980  49.4583  ...    0    0    0    0    0    0    0    0    1    0  \n",
       "563  37.27915  57.7083  ...    0    0    0    1    0    0    0    0    0    0  \n",
       "649  21.65355  53.9167  ...    0    0    0    0    0    0    0    0    1    0  \n",
       "\n",
       "[5 rows x 32 columns]"
      ]
     },
     "execution_count": 38,
     "metadata": {},
     "output_type": "execute_result"
    }
   ],
   "source": [
    "df.sample(5)"
   ]
  },
  {
   "cell_type": "code",
   "execution_count": 39,
   "id": "c8218ab8",
   "metadata": {},
   "outputs": [],
   "source": [
    "# Get the dummy variables for the feature 'weathersit' and store it in a new variable - 'weatherdummy'\n",
    "weatherdummy = pd.get_dummies(df['weathersit'])"
   ]
  },
  {
   "cell_type": "code",
   "execution_count": 40,
   "id": "d7071367",
   "metadata": {},
   "outputs": [
    {
     "data": {
      "text/html": [
       "<div>\n",
       "<style scoped>\n",
       "    .dataframe tbody tr th:only-of-type {\n",
       "        vertical-align: middle;\n",
       "    }\n",
       "\n",
       "    .dataframe tbody tr th {\n",
       "        vertical-align: top;\n",
       "    }\n",
       "\n",
       "    .dataframe thead th {\n",
       "        text-align: right;\n",
       "    }\n",
       "</style>\n",
       "<table border=\"1\" class=\"dataframe\">\n",
       "  <thead>\n",
       "    <tr style=\"text-align: right;\">\n",
       "      <th></th>\n",
       "      <th>weather1</th>\n",
       "      <th>weather2</th>\n",
       "      <th>weather3</th>\n",
       "    </tr>\n",
       "  </thead>\n",
       "  <tbody>\n",
       "    <tr>\n",
       "      <th>473</th>\n",
       "      <td>1</td>\n",
       "      <td>0</td>\n",
       "      <td>0</td>\n",
       "    </tr>\n",
       "    <tr>\n",
       "      <th>269</th>\n",
       "      <td>0</td>\n",
       "      <td>1</td>\n",
       "      <td>0</td>\n",
       "    </tr>\n",
       "    <tr>\n",
       "      <th>444</th>\n",
       "      <td>0</td>\n",
       "      <td>1</td>\n",
       "      <td>0</td>\n",
       "    </tr>\n",
       "    <tr>\n",
       "      <th>559</th>\n",
       "      <td>0</td>\n",
       "      <td>1</td>\n",
       "      <td>0</td>\n",
       "    </tr>\n",
       "    <tr>\n",
       "      <th>9</th>\n",
       "      <td>1</td>\n",
       "      <td>0</td>\n",
       "      <td>0</td>\n",
       "    </tr>\n",
       "  </tbody>\n",
       "</table>\n",
       "</div>"
      ],
      "text/plain": [
       "     weather1  weather2  weather3\n",
       "473         1         0         0\n",
       "269         0         1         0\n",
       "444         0         1         0\n",
       "559         0         1         0\n",
       "9           1         0         0"
      ]
     },
     "execution_count": 40,
     "metadata": {},
     "output_type": "execute_result"
    }
   ],
   "source": [
    "weatherdummy.sample(5)"
   ]
  },
  {
   "cell_type": "code",
   "execution_count": 41,
   "id": "d341a0d7",
   "metadata": {},
   "outputs": [],
   "source": [
    "# drop weather1 month as all 0's in remaning indicate weather1\n",
    "weatherdummy.drop([\"weather1\"],inplace=True,axis=1)\n",
    "df=pd.concat([df,weatherdummy],axis=1)"
   ]
  },
  {
   "cell_type": "code",
   "execution_count": 42,
   "id": "5461d64d",
   "metadata": {},
   "outputs": [],
   "source": [
    "# dropping columns for which we created dummy vars\n",
    "\n",
    "df.drop([\"mnth\",\"season\",\"weekday\",\"weathersit\"],inplace=True,axis=1)"
   ]
  },
  {
   "cell_type": "code",
   "execution_count": 43,
   "id": "00258ac3",
   "metadata": {},
   "outputs": [
    {
     "data": {
      "text/html": [
       "<div>\n",
       "<style scoped>\n",
       "    .dataframe tbody tr th:only-of-type {\n",
       "        vertical-align: middle;\n",
       "    }\n",
       "\n",
       "    .dataframe tbody tr th {\n",
       "        vertical-align: top;\n",
       "    }\n",
       "\n",
       "    .dataframe thead th {\n",
       "        text-align: right;\n",
       "    }\n",
       "</style>\n",
       "<table border=\"1\" class=\"dataframe\">\n",
       "  <thead>\n",
       "    <tr style=\"text-align: right;\">\n",
       "      <th></th>\n",
       "      <th>yr</th>\n",
       "      <th>holiday</th>\n",
       "      <th>workingday</th>\n",
       "      <th>temp</th>\n",
       "      <th>atemp</th>\n",
       "      <th>hum</th>\n",
       "      <th>windspeed</th>\n",
       "      <th>cnt</th>\n",
       "      <th>spring</th>\n",
       "      <th>summer</th>\n",
       "      <th>...</th>\n",
       "      <th>jan</th>\n",
       "      <th>jul</th>\n",
       "      <th>jun</th>\n",
       "      <th>mar</th>\n",
       "      <th>may</th>\n",
       "      <th>nov</th>\n",
       "      <th>oct</th>\n",
       "      <th>sep</th>\n",
       "      <th>weather2</th>\n",
       "      <th>weather3</th>\n",
       "    </tr>\n",
       "  </thead>\n",
       "  <tbody>\n",
       "    <tr>\n",
       "      <th>340</th>\n",
       "      <td>0</td>\n",
       "      <td>0</td>\n",
       "      <td>1</td>\n",
       "      <td>16.810000</td>\n",
       "      <td>20.01230</td>\n",
       "      <td>97.0417</td>\n",
       "      <td>17.833725</td>\n",
       "      <td>705</td>\n",
       "      <td>0</td>\n",
       "      <td>0</td>\n",
       "      <td>...</td>\n",
       "      <td>0</td>\n",
       "      <td>0</td>\n",
       "      <td>0</td>\n",
       "      <td>0</td>\n",
       "      <td>0</td>\n",
       "      <td>0</td>\n",
       "      <td>0</td>\n",
       "      <td>0</td>\n",
       "      <td>0</td>\n",
       "      <td>1</td>\n",
       "    </tr>\n",
       "    <tr>\n",
       "      <th>506</th>\n",
       "      <td>1</td>\n",
       "      <td>0</td>\n",
       "      <td>1</td>\n",
       "      <td>25.215000</td>\n",
       "      <td>29.04125</td>\n",
       "      <td>76.5833</td>\n",
       "      <td>7.917189</td>\n",
       "      <td>6073</td>\n",
       "      <td>0</td>\n",
       "      <td>1</td>\n",
       "      <td>...</td>\n",
       "      <td>0</td>\n",
       "      <td>0</td>\n",
       "      <td>0</td>\n",
       "      <td>0</td>\n",
       "      <td>1</td>\n",
       "      <td>0</td>\n",
       "      <td>0</td>\n",
       "      <td>0</td>\n",
       "      <td>1</td>\n",
       "      <td>0</td>\n",
       "    </tr>\n",
       "    <tr>\n",
       "      <th>575</th>\n",
       "      <td>1</td>\n",
       "      <td>0</td>\n",
       "      <td>1</td>\n",
       "      <td>29.964153</td>\n",
       "      <td>34.24935</td>\n",
       "      <td>66.8750</td>\n",
       "      <td>10.292339</td>\n",
       "      <td>7105</td>\n",
       "      <td>0</td>\n",
       "      <td>0</td>\n",
       "      <td>...</td>\n",
       "      <td>0</td>\n",
       "      <td>1</td>\n",
       "      <td>0</td>\n",
       "      <td>0</td>\n",
       "      <td>0</td>\n",
       "      <td>0</td>\n",
       "      <td>0</td>\n",
       "      <td>0</td>\n",
       "      <td>0</td>\n",
       "      <td>0</td>\n",
       "    </tr>\n",
       "    <tr>\n",
       "      <th>114</th>\n",
       "      <td>0</td>\n",
       "      <td>0</td>\n",
       "      <td>1</td>\n",
       "      <td>24.873347</td>\n",
       "      <td>28.72500</td>\n",
       "      <td>77.6667</td>\n",
       "      <td>12.417311</td>\n",
       "      <td>4073</td>\n",
       "      <td>0</td>\n",
       "      <td>1</td>\n",
       "      <td>...</td>\n",
       "      <td>0</td>\n",
       "      <td>0</td>\n",
       "      <td>0</td>\n",
       "      <td>0</td>\n",
       "      <td>0</td>\n",
       "      <td>0</td>\n",
       "      <td>0</td>\n",
       "      <td>0</td>\n",
       "      <td>0</td>\n",
       "      <td>0</td>\n",
       "    </tr>\n",
       "    <tr>\n",
       "      <th>50</th>\n",
       "      <td>0</td>\n",
       "      <td>0</td>\n",
       "      <td>0</td>\n",
       "      <td>11.693897</td>\n",
       "      <td>13.86650</td>\n",
       "      <td>40.7826</td>\n",
       "      <td>14.956745</td>\n",
       "      <td>1812</td>\n",
       "      <td>1</td>\n",
       "      <td>0</td>\n",
       "      <td>...</td>\n",
       "      <td>0</td>\n",
       "      <td>0</td>\n",
       "      <td>0</td>\n",
       "      <td>0</td>\n",
       "      <td>0</td>\n",
       "      <td>0</td>\n",
       "      <td>0</td>\n",
       "      <td>0</td>\n",
       "      <td>0</td>\n",
       "      <td>0</td>\n",
       "    </tr>\n",
       "  </tbody>\n",
       "</table>\n",
       "<p>5 rows × 30 columns</p>\n",
       "</div>"
      ],
      "text/plain": [
       "     yr  holiday  workingday       temp     atemp      hum  windspeed   cnt  \\\n",
       "340   0        0           1  16.810000  20.01230  97.0417  17.833725   705   \n",
       "506   1        0           1  25.215000  29.04125  76.5833   7.917189  6073   \n",
       "575   1        0           1  29.964153  34.24935  66.8750  10.292339  7105   \n",
       "114   0        0           1  24.873347  28.72500  77.6667  12.417311  4073   \n",
       "50    0        0           0  11.693897  13.86650  40.7826  14.956745  1812   \n",
       "\n",
       "     spring  summer  ...  jan  jul  jun  mar  may  nov  oct  sep  weather2  \\\n",
       "340       0       0  ...    0    0    0    0    0    0    0    0         0   \n",
       "506       0       1  ...    0    0    0    0    1    0    0    0         1   \n",
       "575       0       0  ...    0    1    0    0    0    0    0    0         0   \n",
       "114       0       1  ...    0    0    0    0    0    0    0    0         0   \n",
       "50        1       0  ...    0    0    0    0    0    0    0    0         0   \n",
       "\n",
       "     weather3  \n",
       "340         1  \n",
       "506         0  \n",
       "575         0  \n",
       "114         0  \n",
       "50          0  \n",
       "\n",
       "[5 rows x 30 columns]"
      ]
     },
     "execution_count": 43,
     "metadata": {},
     "output_type": "execute_result"
    }
   ],
   "source": [
    "df.sample(5)"
   ]
  },
  {
   "cell_type": "code",
   "execution_count": 44,
   "id": "05d6a925",
   "metadata": {},
   "outputs": [
    {
     "data": {
      "text/plain": [
       "Index(['yr', 'holiday', 'workingday', 'temp', 'atemp', 'hum', 'windspeed',\n",
       "       'cnt', 'spring', 'summer', 'winter', 'day1', 'day2', 'day3', 'day4',\n",
       "       'day5', 'day6', 'aug', 'dec', 'feb', 'jan', 'jul', 'jun', 'mar', 'may',\n",
       "       'nov', 'oct', 'sep', 'weather2', 'weather3'],\n",
       "      dtype='object')"
      ]
     },
     "execution_count": 44,
     "metadata": {},
     "output_type": "execute_result"
    }
   ],
   "source": [
    "df.columns"
   ]
  },
  {
   "cell_type": "code",
   "execution_count": 45,
   "id": "4c60d3cf",
   "metadata": {},
   "outputs": [
    {
     "data": {
      "text/plain": [
       "(730, 30)"
      ]
     },
     "execution_count": 45,
     "metadata": {},
     "output_type": "execute_result"
    }
   ],
   "source": [
    "df.shape"
   ]
  },
  {
   "cell_type": "markdown",
   "id": "12a3c95b",
   "metadata": {},
   "source": [
    "number of columns have increased as we converted to dummy variables"
   ]
  },
  {
   "cell_type": "markdown",
   "id": "ebdee052",
   "metadata": {},
   "source": [
    "## Data Modelling"
   ]
  },
  {
   "cell_type": "markdown",
   "id": "e92cce77",
   "metadata": {},
   "source": [
    "### splitting data into test and train set"
   ]
  },
  {
   "cell_type": "code",
   "execution_count": 46,
   "id": "ac5d820d",
   "metadata": {},
   "outputs": [],
   "source": [
    "from sklearn.model_selection import train_test_split\n",
    "\n",
    "# We specify this so that the train and test data set always have the same rows, respectively\n",
    "np.random.seed(0)\n",
    "df_train, df_test = train_test_split(df, train_size = 0.7, test_size = 0.3, random_state = 100)"
   ]
  },
  {
   "cell_type": "code",
   "execution_count": 47,
   "id": "6bb74c8c",
   "metadata": {},
   "outputs": [
    {
     "name": "stdout",
     "output_type": "stream",
     "text": [
      "(510, 30)\n",
      "(219, 30)\n"
     ]
    }
   ],
   "source": [
    "print(df_train.shape)\n",
    "print(df_test.shape)"
   ]
  },
  {
   "cell_type": "markdown",
   "id": "a99c0ed9",
   "metadata": {},
   "source": [
    "### Rescaling the Features "
   ]
  },
  {
   "cell_type": "code",
   "execution_count": 48,
   "id": "b2d3cbd2",
   "metadata": {},
   "outputs": [],
   "source": [
    "from sklearn.preprocessing import MinMaxScaler"
   ]
  },
  {
   "cell_type": "code",
   "execution_count": 49,
   "id": "5768d8e3",
   "metadata": {},
   "outputs": [],
   "source": [
    "scaler = MinMaxScaler()"
   ]
  },
  {
   "cell_type": "code",
   "execution_count": 50,
   "id": "e60104bd",
   "metadata": {},
   "outputs": [],
   "source": [
    "# Apply scaler() to all the numerical columns except 'dummy' variables\n",
    "num_vars = ['temp','atemp','hum','windspeed','cnt']\n",
    "\n",
    "df_train[num_vars] = scaler.fit_transform(df_train[num_vars])"
   ]
  },
  {
   "cell_type": "code",
   "execution_count": 51,
   "id": "c2b6940e",
   "metadata": {},
   "outputs": [
    {
     "data": {
      "text/html": [
       "<div>\n",
       "<style scoped>\n",
       "    .dataframe tbody tr th:only-of-type {\n",
       "        vertical-align: middle;\n",
       "    }\n",
       "\n",
       "    .dataframe tbody tr th {\n",
       "        vertical-align: top;\n",
       "    }\n",
       "\n",
       "    .dataframe thead th {\n",
       "        text-align: right;\n",
       "    }\n",
       "</style>\n",
       "<table border=\"1\" class=\"dataframe\">\n",
       "  <thead>\n",
       "    <tr style=\"text-align: right;\">\n",
       "      <th></th>\n",
       "      <th>temp</th>\n",
       "      <th>atemp</th>\n",
       "      <th>hum</th>\n",
       "      <th>windspeed</th>\n",
       "      <th>cnt</th>\n",
       "    </tr>\n",
       "  </thead>\n",
       "  <tbody>\n",
       "    <tr>\n",
       "      <th>653</th>\n",
       "      <td>0.509887</td>\n",
       "      <td>0.501133</td>\n",
       "      <td>0.575354</td>\n",
       "      <td>0.300794</td>\n",
       "      <td>0.864243</td>\n",
       "    </tr>\n",
       "    <tr>\n",
       "      <th>576</th>\n",
       "      <td>0.815169</td>\n",
       "      <td>0.766351</td>\n",
       "      <td>0.725633</td>\n",
       "      <td>0.264686</td>\n",
       "      <td>0.827658</td>\n",
       "    </tr>\n",
       "    <tr>\n",
       "      <th>426</th>\n",
       "      <td>0.442393</td>\n",
       "      <td>0.438975</td>\n",
       "      <td>0.640189</td>\n",
       "      <td>0.255342</td>\n",
       "      <td>0.465255</td>\n",
       "    </tr>\n",
       "    <tr>\n",
       "      <th>728</th>\n",
       "      <td>0.245101</td>\n",
       "      <td>0.200348</td>\n",
       "      <td>0.498067</td>\n",
       "      <td>0.663106</td>\n",
       "      <td>0.204096</td>\n",
       "    </tr>\n",
       "    <tr>\n",
       "      <th>482</th>\n",
       "      <td>0.395666</td>\n",
       "      <td>0.391735</td>\n",
       "      <td>0.504508</td>\n",
       "      <td>0.188475</td>\n",
       "      <td>0.482973</td>\n",
       "    </tr>\n",
       "  </tbody>\n",
       "</table>\n",
       "</div>"
      ],
      "text/plain": [
       "         temp     atemp       hum  windspeed       cnt\n",
       "653  0.509887  0.501133  0.575354   0.300794  0.864243\n",
       "576  0.815169  0.766351  0.725633   0.264686  0.827658\n",
       "426  0.442393  0.438975  0.640189   0.255342  0.465255\n",
       "728  0.245101  0.200348  0.498067   0.663106  0.204096\n",
       "482  0.395666  0.391735  0.504508   0.188475  0.482973"
      ]
     },
     "execution_count": 51,
     "metadata": {},
     "output_type": "execute_result"
    }
   ],
   "source": [
    "df_train[num_vars].head()"
   ]
  },
  {
   "cell_type": "code",
   "execution_count": 52,
   "id": "a232d830",
   "metadata": {},
   "outputs": [
    {
     "data": {
      "text/html": [
       "<div>\n",
       "<style scoped>\n",
       "    .dataframe tbody tr th:only-of-type {\n",
       "        vertical-align: middle;\n",
       "    }\n",
       "\n",
       "    .dataframe tbody tr th {\n",
       "        vertical-align: top;\n",
       "    }\n",
       "\n",
       "    .dataframe thead th {\n",
       "        text-align: right;\n",
       "    }\n",
       "</style>\n",
       "<table border=\"1\" class=\"dataframe\">\n",
       "  <thead>\n",
       "    <tr style=\"text-align: right;\">\n",
       "      <th></th>\n",
       "      <th>yr</th>\n",
       "      <th>holiday</th>\n",
       "      <th>workingday</th>\n",
       "      <th>temp</th>\n",
       "      <th>atemp</th>\n",
       "      <th>hum</th>\n",
       "      <th>windspeed</th>\n",
       "      <th>cnt</th>\n",
       "      <th>spring</th>\n",
       "      <th>summer</th>\n",
       "      <th>...</th>\n",
       "      <th>jan</th>\n",
       "      <th>jul</th>\n",
       "      <th>jun</th>\n",
       "      <th>mar</th>\n",
       "      <th>may</th>\n",
       "      <th>nov</th>\n",
       "      <th>oct</th>\n",
       "      <th>sep</th>\n",
       "      <th>weather2</th>\n",
       "      <th>weather3</th>\n",
       "    </tr>\n",
       "  </thead>\n",
       "  <tbody>\n",
       "    <tr>\n",
       "      <th>count</th>\n",
       "      <td>510.000000</td>\n",
       "      <td>510.000000</td>\n",
       "      <td>510.000000</td>\n",
       "      <td>510.000000</td>\n",
       "      <td>510.000000</td>\n",
       "      <td>510.000000</td>\n",
       "      <td>510.000000</td>\n",
       "      <td>510.000000</td>\n",
       "      <td>510.000000</td>\n",
       "      <td>510.000000</td>\n",
       "      <td>...</td>\n",
       "      <td>510.000000</td>\n",
       "      <td>510.000000</td>\n",
       "      <td>510.000000</td>\n",
       "      <td>510.000000</td>\n",
       "      <td>510.000000</td>\n",
       "      <td>510.000000</td>\n",
       "      <td>510.000000</td>\n",
       "      <td>510.000000</td>\n",
       "      <td>510.000000</td>\n",
       "      <td>510.000000</td>\n",
       "    </tr>\n",
       "    <tr>\n",
       "      <th>mean</th>\n",
       "      <td>0.507843</td>\n",
       "      <td>0.025490</td>\n",
       "      <td>0.676471</td>\n",
       "      <td>0.537262</td>\n",
       "      <td>0.512989</td>\n",
       "      <td>0.650369</td>\n",
       "      <td>0.320768</td>\n",
       "      <td>0.513620</td>\n",
       "      <td>0.243137</td>\n",
       "      <td>0.245098</td>\n",
       "      <td>...</td>\n",
       "      <td>0.088235</td>\n",
       "      <td>0.076471</td>\n",
       "      <td>0.074510</td>\n",
       "      <td>0.098039</td>\n",
       "      <td>0.084314</td>\n",
       "      <td>0.086275</td>\n",
       "      <td>0.086275</td>\n",
       "      <td>0.080392</td>\n",
       "      <td>0.343137</td>\n",
       "      <td>0.029412</td>\n",
       "    </tr>\n",
       "    <tr>\n",
       "      <th>std</th>\n",
       "      <td>0.500429</td>\n",
       "      <td>0.157763</td>\n",
       "      <td>0.468282</td>\n",
       "      <td>0.225844</td>\n",
       "      <td>0.212385</td>\n",
       "      <td>0.145882</td>\n",
       "      <td>0.169797</td>\n",
       "      <td>0.224593</td>\n",
       "      <td>0.429398</td>\n",
       "      <td>0.430568</td>\n",
       "      <td>...</td>\n",
       "      <td>0.283915</td>\n",
       "      <td>0.266010</td>\n",
       "      <td>0.262857</td>\n",
       "      <td>0.297660</td>\n",
       "      <td>0.278131</td>\n",
       "      <td>0.281045</td>\n",
       "      <td>0.281045</td>\n",
       "      <td>0.272166</td>\n",
       "      <td>0.475223</td>\n",
       "      <td>0.169124</td>\n",
       "    </tr>\n",
       "    <tr>\n",
       "      <th>min</th>\n",
       "      <td>0.000000</td>\n",
       "      <td>0.000000</td>\n",
       "      <td>0.000000</td>\n",
       "      <td>0.000000</td>\n",
       "      <td>0.000000</td>\n",
       "      <td>0.000000</td>\n",
       "      <td>0.000000</td>\n",
       "      <td>0.000000</td>\n",
       "      <td>0.000000</td>\n",
       "      <td>0.000000</td>\n",
       "      <td>...</td>\n",
       "      <td>0.000000</td>\n",
       "      <td>0.000000</td>\n",
       "      <td>0.000000</td>\n",
       "      <td>0.000000</td>\n",
       "      <td>0.000000</td>\n",
       "      <td>0.000000</td>\n",
       "      <td>0.000000</td>\n",
       "      <td>0.000000</td>\n",
       "      <td>0.000000</td>\n",
       "      <td>0.000000</td>\n",
       "    </tr>\n",
       "    <tr>\n",
       "      <th>25%</th>\n",
       "      <td>0.000000</td>\n",
       "      <td>0.000000</td>\n",
       "      <td>0.000000</td>\n",
       "      <td>0.339853</td>\n",
       "      <td>0.332086</td>\n",
       "      <td>0.538643</td>\n",
       "      <td>0.199179</td>\n",
       "      <td>0.356420</td>\n",
       "      <td>0.000000</td>\n",
       "      <td>0.000000</td>\n",
       "      <td>...</td>\n",
       "      <td>0.000000</td>\n",
       "      <td>0.000000</td>\n",
       "      <td>0.000000</td>\n",
       "      <td>0.000000</td>\n",
       "      <td>0.000000</td>\n",
       "      <td>0.000000</td>\n",
       "      <td>0.000000</td>\n",
       "      <td>0.000000</td>\n",
       "      <td>0.000000</td>\n",
       "      <td>0.000000</td>\n",
       "    </tr>\n",
       "    <tr>\n",
       "      <th>50%</th>\n",
       "      <td>1.000000</td>\n",
       "      <td>0.000000</td>\n",
       "      <td>1.000000</td>\n",
       "      <td>0.540519</td>\n",
       "      <td>0.526811</td>\n",
       "      <td>0.653714</td>\n",
       "      <td>0.296763</td>\n",
       "      <td>0.518638</td>\n",
       "      <td>0.000000</td>\n",
       "      <td>0.000000</td>\n",
       "      <td>...</td>\n",
       "      <td>0.000000</td>\n",
       "      <td>0.000000</td>\n",
       "      <td>0.000000</td>\n",
       "      <td>0.000000</td>\n",
       "      <td>0.000000</td>\n",
       "      <td>0.000000</td>\n",
       "      <td>0.000000</td>\n",
       "      <td>0.000000</td>\n",
       "      <td>0.000000</td>\n",
       "      <td>0.000000</td>\n",
       "    </tr>\n",
       "    <tr>\n",
       "      <th>75%</th>\n",
       "      <td>1.000000</td>\n",
       "      <td>0.000000</td>\n",
       "      <td>1.000000</td>\n",
       "      <td>0.735215</td>\n",
       "      <td>0.688457</td>\n",
       "      <td>0.754830</td>\n",
       "      <td>0.414447</td>\n",
       "      <td>0.684710</td>\n",
       "      <td>0.000000</td>\n",
       "      <td>0.000000</td>\n",
       "      <td>...</td>\n",
       "      <td>0.000000</td>\n",
       "      <td>0.000000</td>\n",
       "      <td>0.000000</td>\n",
       "      <td>0.000000</td>\n",
       "      <td>0.000000</td>\n",
       "      <td>0.000000</td>\n",
       "      <td>0.000000</td>\n",
       "      <td>0.000000</td>\n",
       "      <td>1.000000</td>\n",
       "      <td>0.000000</td>\n",
       "    </tr>\n",
       "    <tr>\n",
       "      <th>max</th>\n",
       "      <td>1.000000</td>\n",
       "      <td>1.000000</td>\n",
       "      <td>1.000000</td>\n",
       "      <td>1.000000</td>\n",
       "      <td>1.000000</td>\n",
       "      <td>1.000000</td>\n",
       "      <td>1.000000</td>\n",
       "      <td>1.000000</td>\n",
       "      <td>1.000000</td>\n",
       "      <td>1.000000</td>\n",
       "      <td>...</td>\n",
       "      <td>1.000000</td>\n",
       "      <td>1.000000</td>\n",
       "      <td>1.000000</td>\n",
       "      <td>1.000000</td>\n",
       "      <td>1.000000</td>\n",
       "      <td>1.000000</td>\n",
       "      <td>1.000000</td>\n",
       "      <td>1.000000</td>\n",
       "      <td>1.000000</td>\n",
       "      <td>1.000000</td>\n",
       "    </tr>\n",
       "  </tbody>\n",
       "</table>\n",
       "<p>8 rows × 30 columns</p>\n",
       "</div>"
      ],
      "text/plain": [
       "               yr     holiday  workingday        temp       atemp         hum  \\\n",
       "count  510.000000  510.000000  510.000000  510.000000  510.000000  510.000000   \n",
       "mean     0.507843    0.025490    0.676471    0.537262    0.512989    0.650369   \n",
       "std      0.500429    0.157763    0.468282    0.225844    0.212385    0.145882   \n",
       "min      0.000000    0.000000    0.000000    0.000000    0.000000    0.000000   \n",
       "25%      0.000000    0.000000    0.000000    0.339853    0.332086    0.538643   \n",
       "50%      1.000000    0.000000    1.000000    0.540519    0.526811    0.653714   \n",
       "75%      1.000000    0.000000    1.000000    0.735215    0.688457    0.754830   \n",
       "max      1.000000    1.000000    1.000000    1.000000    1.000000    1.000000   \n",
       "\n",
       "        windspeed         cnt      spring      summer  ...         jan  \\\n",
       "count  510.000000  510.000000  510.000000  510.000000  ...  510.000000   \n",
       "mean     0.320768    0.513620    0.243137    0.245098  ...    0.088235   \n",
       "std      0.169797    0.224593    0.429398    0.430568  ...    0.283915   \n",
       "min      0.000000    0.000000    0.000000    0.000000  ...    0.000000   \n",
       "25%      0.199179    0.356420    0.000000    0.000000  ...    0.000000   \n",
       "50%      0.296763    0.518638    0.000000    0.000000  ...    0.000000   \n",
       "75%      0.414447    0.684710    0.000000    0.000000  ...    0.000000   \n",
       "max      1.000000    1.000000    1.000000    1.000000  ...    1.000000   \n",
       "\n",
       "              jul         jun         mar         may         nov         oct  \\\n",
       "count  510.000000  510.000000  510.000000  510.000000  510.000000  510.000000   \n",
       "mean     0.076471    0.074510    0.098039    0.084314    0.086275    0.086275   \n",
       "std      0.266010    0.262857    0.297660    0.278131    0.281045    0.281045   \n",
       "min      0.000000    0.000000    0.000000    0.000000    0.000000    0.000000   \n",
       "25%      0.000000    0.000000    0.000000    0.000000    0.000000    0.000000   \n",
       "50%      0.000000    0.000000    0.000000    0.000000    0.000000    0.000000   \n",
       "75%      0.000000    0.000000    0.000000    0.000000    0.000000    0.000000   \n",
       "max      1.000000    1.000000    1.000000    1.000000    1.000000    1.000000   \n",
       "\n",
       "              sep    weather2    weather3  \n",
       "count  510.000000  510.000000  510.000000  \n",
       "mean     0.080392    0.343137    0.029412  \n",
       "std      0.272166    0.475223    0.169124  \n",
       "min      0.000000    0.000000    0.000000  \n",
       "25%      0.000000    0.000000    0.000000  \n",
       "50%      0.000000    0.000000    0.000000  \n",
       "75%      0.000000    1.000000    0.000000  \n",
       "max      1.000000    1.000000    1.000000  \n",
       "\n",
       "[8 rows x 30 columns]"
      ]
     },
     "execution_count": 52,
     "metadata": {},
     "output_type": "execute_result"
    }
   ],
   "source": [
    "df_train.describe()"
   ]
  },
  {
   "cell_type": "markdown",
   "id": "3e75e631",
   "metadata": {},
   "source": [
    " all values ranges between 0-1"
   ]
  },
  {
   "cell_type": "code",
   "execution_count": 53,
   "id": "217ca56b",
   "metadata": {},
   "outputs": [],
   "source": [
    "# seperate dependent and independent variables\n",
    "y_train = df_train.pop('cnt')\n",
    "X_train = df_train"
   ]
  },
  {
   "cell_type": "code",
   "execution_count": 54,
   "id": "f97ddb31",
   "metadata": {},
   "outputs": [
    {
     "data": {
      "text/html": [
       "<div>\n",
       "<style scoped>\n",
       "    .dataframe tbody tr th:only-of-type {\n",
       "        vertical-align: middle;\n",
       "    }\n",
       "\n",
       "    .dataframe tbody tr th {\n",
       "        vertical-align: top;\n",
       "    }\n",
       "\n",
       "    .dataframe thead th {\n",
       "        text-align: right;\n",
       "    }\n",
       "</style>\n",
       "<table border=\"1\" class=\"dataframe\">\n",
       "  <thead>\n",
       "    <tr style=\"text-align: right;\">\n",
       "      <th></th>\n",
       "      <th>yr</th>\n",
       "      <th>holiday</th>\n",
       "      <th>workingday</th>\n",
       "      <th>temp</th>\n",
       "      <th>atemp</th>\n",
       "      <th>hum</th>\n",
       "      <th>windspeed</th>\n",
       "      <th>spring</th>\n",
       "      <th>summer</th>\n",
       "      <th>winter</th>\n",
       "      <th>...</th>\n",
       "      <th>jan</th>\n",
       "      <th>jul</th>\n",
       "      <th>jun</th>\n",
       "      <th>mar</th>\n",
       "      <th>may</th>\n",
       "      <th>nov</th>\n",
       "      <th>oct</th>\n",
       "      <th>sep</th>\n",
       "      <th>weather2</th>\n",
       "      <th>weather3</th>\n",
       "    </tr>\n",
       "  </thead>\n",
       "  <tbody>\n",
       "    <tr>\n",
       "      <th>653</th>\n",
       "      <td>1</td>\n",
       "      <td>0</td>\n",
       "      <td>1</td>\n",
       "      <td>0.509887</td>\n",
       "      <td>0.501133</td>\n",
       "      <td>0.575354</td>\n",
       "      <td>0.300794</td>\n",
       "      <td>0</td>\n",
       "      <td>0</td>\n",
       "      <td>1</td>\n",
       "      <td>...</td>\n",
       "      <td>0</td>\n",
       "      <td>0</td>\n",
       "      <td>0</td>\n",
       "      <td>0</td>\n",
       "      <td>0</td>\n",
       "      <td>0</td>\n",
       "      <td>1</td>\n",
       "      <td>0</td>\n",
       "      <td>0</td>\n",
       "      <td>0</td>\n",
       "    </tr>\n",
       "    <tr>\n",
       "      <th>576</th>\n",
       "      <td>1</td>\n",
       "      <td>0</td>\n",
       "      <td>1</td>\n",
       "      <td>0.815169</td>\n",
       "      <td>0.766351</td>\n",
       "      <td>0.725633</td>\n",
       "      <td>0.264686</td>\n",
       "      <td>0</td>\n",
       "      <td>0</td>\n",
       "      <td>0</td>\n",
       "      <td>...</td>\n",
       "      <td>0</td>\n",
       "      <td>1</td>\n",
       "      <td>0</td>\n",
       "      <td>0</td>\n",
       "      <td>0</td>\n",
       "      <td>0</td>\n",
       "      <td>0</td>\n",
       "      <td>0</td>\n",
       "      <td>0</td>\n",
       "      <td>0</td>\n",
       "    </tr>\n",
       "    <tr>\n",
       "      <th>426</th>\n",
       "      <td>1</td>\n",
       "      <td>0</td>\n",
       "      <td>0</td>\n",
       "      <td>0.442393</td>\n",
       "      <td>0.438975</td>\n",
       "      <td>0.640189</td>\n",
       "      <td>0.255342</td>\n",
       "      <td>1</td>\n",
       "      <td>0</td>\n",
       "      <td>0</td>\n",
       "      <td>...</td>\n",
       "      <td>0</td>\n",
       "      <td>0</td>\n",
       "      <td>0</td>\n",
       "      <td>1</td>\n",
       "      <td>0</td>\n",
       "      <td>0</td>\n",
       "      <td>0</td>\n",
       "      <td>0</td>\n",
       "      <td>1</td>\n",
       "      <td>0</td>\n",
       "    </tr>\n",
       "    <tr>\n",
       "      <th>728</th>\n",
       "      <td>1</td>\n",
       "      <td>0</td>\n",
       "      <td>0</td>\n",
       "      <td>0.245101</td>\n",
       "      <td>0.200348</td>\n",
       "      <td>0.498067</td>\n",
       "      <td>0.663106</td>\n",
       "      <td>1</td>\n",
       "      <td>0</td>\n",
       "      <td>0</td>\n",
       "      <td>...</td>\n",
       "      <td>0</td>\n",
       "      <td>0</td>\n",
       "      <td>0</td>\n",
       "      <td>0</td>\n",
       "      <td>0</td>\n",
       "      <td>0</td>\n",
       "      <td>0</td>\n",
       "      <td>0</td>\n",
       "      <td>0</td>\n",
       "      <td>0</td>\n",
       "    </tr>\n",
       "    <tr>\n",
       "      <th>482</th>\n",
       "      <td>1</td>\n",
       "      <td>0</td>\n",
       "      <td>0</td>\n",
       "      <td>0.395666</td>\n",
       "      <td>0.391735</td>\n",
       "      <td>0.504508</td>\n",
       "      <td>0.188475</td>\n",
       "      <td>0</td>\n",
       "      <td>1</td>\n",
       "      <td>0</td>\n",
       "      <td>...</td>\n",
       "      <td>0</td>\n",
       "      <td>0</td>\n",
       "      <td>0</td>\n",
       "      <td>0</td>\n",
       "      <td>0</td>\n",
       "      <td>0</td>\n",
       "      <td>0</td>\n",
       "      <td>0</td>\n",
       "      <td>1</td>\n",
       "      <td>0</td>\n",
       "    </tr>\n",
       "  </tbody>\n",
       "</table>\n",
       "<p>5 rows × 29 columns</p>\n",
       "</div>"
      ],
      "text/plain": [
       "     yr  holiday  workingday      temp     atemp       hum  windspeed  spring  \\\n",
       "653   1        0           1  0.509887  0.501133  0.575354   0.300794       0   \n",
       "576   1        0           1  0.815169  0.766351  0.725633   0.264686       0   \n",
       "426   1        0           0  0.442393  0.438975  0.640189   0.255342       1   \n",
       "728   1        0           0  0.245101  0.200348  0.498067   0.663106       1   \n",
       "482   1        0           0  0.395666  0.391735  0.504508   0.188475       0   \n",
       "\n",
       "     summer  winter  ...  jan  jul  jun  mar  may  nov  oct  sep  weather2  \\\n",
       "653       0       1  ...    0    0    0    0    0    0    1    0         0   \n",
       "576       0       0  ...    0    1    0    0    0    0    0    0         0   \n",
       "426       0       0  ...    0    0    0    1    0    0    0    0         1   \n",
       "728       0       0  ...    0    0    0    0    0    0    0    0         0   \n",
       "482       1       0  ...    0    0    0    0    0    0    0    0         1   \n",
       "\n",
       "     weather3  \n",
       "653         0  \n",
       "576         0  \n",
       "426         0  \n",
       "728         0  \n",
       "482         0  \n",
       "\n",
       "[5 rows x 29 columns]"
      ]
     },
     "execution_count": 54,
     "metadata": {},
     "output_type": "execute_result"
    }
   ],
   "source": [
    "X_train.head()"
   ]
  },
  {
   "cell_type": "code",
   "execution_count": 55,
   "id": "aacf903e",
   "metadata": {},
   "outputs": [
    {
     "data": {
      "text/plain": [
       "653    0.864243\n",
       "576    0.827658\n",
       "426    0.465255\n",
       "728    0.204096\n",
       "482    0.482973\n",
       "Name: cnt, dtype: float64"
      ]
     },
     "execution_count": 55,
     "metadata": {},
     "output_type": "execute_result"
    }
   ],
   "source": [
    "y_train.head()"
   ]
  },
  {
   "cell_type": "markdown",
   "id": "a3770dc3",
   "metadata": {},
   "source": [
    "### using automated way to eliminate features"
   ]
  },
  {
   "cell_type": "code",
   "execution_count": 56,
   "id": "85210fc3",
   "metadata": {},
   "outputs": [],
   "source": [
    "from sklearn.linear_model import LinearRegression\n",
    "from sklearn.feature_selection import RFE"
   ]
  },
  {
   "cell_type": "code",
   "execution_count": 57,
   "id": "f5e9a8bc",
   "metadata": {},
   "outputs": [],
   "source": [
    "\n",
    "lm = LinearRegression()\n",
    "lm.fit(X_train, y_train)\n",
    "\n",
    "rfe = RFE(lm, 15)            \n",
    "rfe = rfe.fit(X_train, y_train)"
   ]
  },
  {
   "cell_type": "code",
   "execution_count": 58,
   "id": "af28052b",
   "metadata": {},
   "outputs": [
    {
     "data": {
      "text/plain": [
       "[('yr', True, 1),\n",
       " ('holiday', True, 1),\n",
       " ('workingday', True, 1),\n",
       " ('temp', True, 1),\n",
       " ('atemp', False, 4),\n",
       " ('hum', True, 1),\n",
       " ('windspeed', True, 1),\n",
       " ('spring', True, 1),\n",
       " ('summer', True, 1),\n",
       " ('winter', True, 1),\n",
       " ('day1', False, 7),\n",
       " ('day2', False, 8),\n",
       " ('day3', False, 13),\n",
       " ('day4', False, 14),\n",
       " ('day5', False, 11),\n",
       " ('day6', True, 1),\n",
       " ('aug', False, 3),\n",
       " ('dec', False, 9),\n",
       " ('feb', False, 10),\n",
       " ('jan', False, 2),\n",
       " ('jul', True, 1),\n",
       " ('jun', False, 12),\n",
       " ('mar', False, 6),\n",
       " ('may', False, 5),\n",
       " ('nov', False, 15),\n",
       " ('oct', True, 1),\n",
       " ('sep', True, 1),\n",
       " ('weather2', True, 1),\n",
       " ('weather3', True, 1)]"
      ]
     },
     "execution_count": 58,
     "metadata": {},
     "output_type": "execute_result"
    }
   ],
   "source": [
    "list(zip(X_train.columns,rfe.support_,rfe.ranking_))"
   ]
  },
  {
   "cell_type": "code",
   "execution_count": 59,
   "id": "29f399fc",
   "metadata": {},
   "outputs": [
    {
     "data": {
      "text/plain": [
       "Index(['yr', 'holiday', 'workingday', 'temp', 'hum', 'windspeed', 'spring',\n",
       "       'summer', 'winter', 'day6', 'jul', 'oct', 'sep', 'weather2',\n",
       "       'weather3'],\n",
       "      dtype='object')"
      ]
     },
     "execution_count": 59,
     "metadata": {},
     "output_type": "execute_result"
    }
   ],
   "source": [
    "# columns selected by rfe\n",
    "cols = X_train.columns[rfe.support_]\n",
    "cols"
   ]
  },
  {
   "cell_type": "code",
   "execution_count": 60,
   "id": "3822c36c",
   "metadata": {},
   "outputs": [
    {
     "data": {
      "text/plain": [
       "Index(['atemp', 'day1', 'day2', 'day3', 'day4', 'day5', 'aug', 'dec', 'feb',\n",
       "       'jan', 'jun', 'mar', 'may', 'nov'],\n",
       "      dtype='object')"
      ]
     },
     "execution_count": 60,
     "metadata": {},
     "output_type": "execute_result"
    }
   ],
   "source": [
    "# columns rejected by rfe\n",
    "X_train.columns[~rfe.support_]"
   ]
  },
  {
   "cell_type": "markdown",
   "id": "2c148e80",
   "metadata": {},
   "source": [
    "### using statsmodel to eliminate remaining columns manually"
   ]
  },
  {
   "cell_type": "code",
   "execution_count": 61,
   "id": "1a0bf8be",
   "metadata": {},
   "outputs": [],
   "source": [
    "import statsmodels.api as sm  \n",
    "from statsmodels.stats.outliers_influence import variance_inflation_factor"
   ]
  },
  {
   "cell_type": "code",
   "execution_count": 62,
   "id": "339e9b99",
   "metadata": {},
   "outputs": [],
   "source": [
    "# we will create function to build model, as we need to use same code for all columns\n",
    "def build_stats_model(cols):\n",
    "    X_train_sm = sm.add_constant(X_train[cols])\n",
    "    lm = sm.OLS(y_train, X_train_sm).fit()\n",
    "    print(lm.summary())\n",
    "    return lm"
   ]
  },
  {
   "cell_type": "code",
   "execution_count": 63,
   "id": "dd93fa70",
   "metadata": {},
   "outputs": [],
   "source": [
    "# function to get VIF\n",
    "def get_vif(cols):\n",
    "    df1 = X_train[cols]\n",
    "    vif = pd.DataFrame()\n",
    "    vif['Features'] = df1.columns\n",
    "    vif['VIF'] = [variance_inflation_factor(df1.values, i) for i in range(df1.shape[1])]\n",
    "    vif['VIF'] = round(vif['VIF'],2)\n",
    "    print(vif.sort_values(by='VIF',ascending=False))"
   ]
  },
  {
   "cell_type": "markdown",
   "id": "57b4e310",
   "metadata": {},
   "source": [
    "### Model 1"
   ]
  },
  {
   "cell_type": "code",
   "execution_count": 64,
   "id": "f19281c7",
   "metadata": {},
   "outputs": [
    {
     "name": "stdout",
     "output_type": "stream",
     "text": [
      "                            OLS Regression Results                            \n",
      "==============================================================================\n",
      "Dep. Variable:                    cnt   R-squared:                       0.849\n",
      "Model:                            OLS   Adj. R-squared:                  0.844\n",
      "Method:                 Least Squares   F-statistic:                     185.1\n",
      "Date:                Sun, 21 Nov 2021   Prob (F-statistic):          1.29e-191\n",
      "Time:                        18:16:31   Log-Likelihood:                 520.48\n",
      "No. Observations:                 510   AIC:                            -1009.\n",
      "Df Residuals:                     494   BIC:                            -941.2\n",
      "Df Model:                          15                                         \n",
      "Covariance Type:            nonrobust                                         \n",
      "==============================================================================\n",
      "                 coef    std err          t      P>|t|      [0.025      0.975]\n",
      "------------------------------------------------------------------------------\n",
      "const          0.2524      0.036      6.998      0.000       0.182       0.323\n",
      "yr             0.2302      0.008     28.830      0.000       0.215       0.246\n",
      "holiday       -0.0569      0.027     -2.119      0.035      -0.110      -0.004\n",
      "workingday     0.0443      0.012      3.853      0.000       0.022       0.067\n",
      "temp           0.5105      0.034     15.040      0.000       0.444       0.577\n",
      "hum           -0.1615      0.037     -4.338      0.000      -0.235      -0.088\n",
      "windspeed     -0.1830      0.025     -7.228      0.000      -0.233      -0.133\n",
      "spring        -0.0622      0.021     -3.004      0.003      -0.103      -0.022\n",
      "summer         0.0509      0.015      3.450      0.001       0.022       0.080\n",
      "winter         0.0826      0.019      4.424      0.000       0.046       0.119\n",
      "day6           0.0543      0.014      3.747      0.000       0.026       0.083\n",
      "jul           -0.0520      0.018     -2.882      0.004      -0.087      -0.017\n",
      "oct            0.0390      0.017      2.258      0.024       0.005       0.073\n",
      "sep            0.0859      0.017      5.196      0.000       0.053       0.118\n",
      "weather2      -0.0583      0.010     -5.627      0.000      -0.079      -0.038\n",
      "weather3      -0.2526      0.026     -9.674      0.000      -0.304      -0.201\n",
      "==============================================================================\n",
      "Omnibus:                       76.176   Durbin-Watson:                   2.053\n",
      "Prob(Omnibus):                  0.000   Jarque-Bera (JB):              202.360\n",
      "Skew:                          -0.742   Prob(JB):                     1.14e-44\n",
      "Kurtosis:                       5.706   Cond. No.                         22.3\n",
      "==============================================================================\n",
      "\n",
      "Notes:\n",
      "[1] Standard Errors assume that the covariance matrix of the errors is correctly specified.\n",
      "      Features    VIF\n",
      "4          hum  28.65\n",
      "3         temp  17.46\n",
      "2   workingday   5.33\n",
      "5    windspeed   4.72\n",
      "6       spring   4.25\n",
      "8       winter   4.09\n",
      "7       summer   2.84\n",
      "13    weather2   2.29\n",
      "0           yr   2.08\n",
      "9         day6   1.98\n",
      "11         oct   1.63\n",
      "10         jul   1.60\n",
      "12         sep   1.41\n",
      "14    weather3   1.26\n",
      "1      holiday   1.18\n"
     ]
    }
   ],
   "source": [
    "# providing all cols selected by rfe as input\n",
    "cols = ['yr', 'holiday', 'workingday', 'temp', 'hum', 'windspeed', 'spring',\n",
    "       'summer', 'winter', 'day6', 'jul', 'oct', 'sep', 'weather2',\n",
    "       'weather3']\n",
    "build_stats_model(cols)\n",
    "get_vif(cols)"
   ]
  },
  {
   "cell_type": "markdown",
   "id": "f9841185",
   "metadata": {},
   "source": [
    "VIF of humidity high(>5), we will drop it"
   ]
  },
  {
   "cell_type": "code",
   "execution_count": 65,
   "id": "08d4d46c",
   "metadata": {},
   "outputs": [],
   "source": [
    "cols.remove(\"hum\")"
   ]
  },
  {
   "cell_type": "markdown",
   "id": "267d62a7",
   "metadata": {},
   "source": [
    "### model 2"
   ]
  },
  {
   "cell_type": "code",
   "execution_count": 66,
   "id": "787a45fa",
   "metadata": {},
   "outputs": [
    {
     "name": "stdout",
     "output_type": "stream",
     "text": [
      "                            OLS Regression Results                            \n",
      "==============================================================================\n",
      "Dep. Variable:                    cnt   R-squared:                       0.843\n",
      "Model:                            OLS   Adj. R-squared:                  0.839\n",
      "Method:                 Least Squares   F-statistic:                     190.1\n",
      "Date:                Sun, 21 Nov 2021   Prob (F-statistic):          9.01e-189\n",
      "Time:                        18:16:31   Log-Likelihood:                 510.95\n",
      "No. Observations:                 510   AIC:                            -991.9\n",
      "Df Residuals:                     495   BIC:                            -928.4\n",
      "Df Model:                          14                                         \n",
      "Covariance Type:            nonrobust                                         \n",
      "==============================================================================\n",
      "                 coef    std err          t      P>|t|      [0.025      0.975]\n",
      "------------------------------------------------------------------------------\n",
      "const          0.1691      0.031      5.442      0.000       0.108       0.230\n",
      "yr             0.2341      0.008     28.992      0.000       0.218       0.250\n",
      "holiday       -0.0547      0.027     -2.002      0.046      -0.108      -0.001\n",
      "workingday     0.0474      0.012      4.052      0.000       0.024       0.070\n",
      "temp           0.4751      0.034     14.167      0.000       0.409       0.541\n",
      "windspeed     -0.1510      0.025     -6.126      0.000      -0.199      -0.103\n",
      "spring        -0.0719      0.021     -3.430      0.001      -0.113      -0.031\n",
      "summer         0.0448      0.015      2.996      0.003       0.015       0.074\n",
      "winter         0.0688      0.019      3.675      0.000       0.032       0.106\n",
      "day6           0.0591      0.015      4.020      0.000       0.030       0.088\n",
      "jul           -0.0472      0.018     -2.573      0.010      -0.083      -0.011\n",
      "oct            0.0372      0.018      2.118      0.035       0.003       0.072\n",
      "sep            0.0797      0.017      4.752      0.000       0.047       0.113\n",
      "weather2      -0.0843      0.009     -9.783      0.000      -0.101      -0.067\n",
      "weather3      -0.2969      0.024    -12.143      0.000      -0.345      -0.249\n",
      "==============================================================================\n",
      "Omnibus:                       78.169   Durbin-Watson:                   2.050\n",
      "Prob(Omnibus):                  0.000   Jarque-Bera (JB):              209.440\n",
      "Skew:                          -0.758   Prob(JB):                     3.32e-46\n",
      "Kurtosis:                       5.750   Cond. No.                         20.2\n",
      "==============================================================================\n",
      "\n",
      "Notes:\n",
      "[1] Standard Errors assume that the covariance matrix of the errors is correctly specified.\n",
      "      Features   VIF\n",
      "3         temp  7.18\n",
      "2   workingday  5.26\n",
      "4    windspeed  4.65\n",
      "7       winter  2.50\n",
      "5       spring  2.49\n",
      "6       summer  2.33\n",
      "0           yr  2.07\n",
      "8         day6  1.97\n",
      "10         oct  1.62\n",
      "9          jul  1.60\n",
      "12    weather2  1.56\n",
      "11         sep  1.37\n",
      "1      holiday  1.18\n",
      "13    weather3  1.10\n"
     ]
    }
   ],
   "source": [
    "build_stats_model(cols)\n",
    "get_vif(cols)"
   ]
  },
  {
   "cell_type": "markdown",
   "id": "0928a090",
   "metadata": {},
   "source": [
    "temp has VIF>5, we will drop it"
   ]
  },
  {
   "cell_type": "code",
   "execution_count": 67,
   "id": "7e7b6296",
   "metadata": {},
   "outputs": [],
   "source": [
    "cols.remove(\"temp\")"
   ]
  },
  {
   "cell_type": "markdown",
   "id": "5047e903",
   "metadata": {},
   "source": [
    "### model 3"
   ]
  },
  {
   "cell_type": "code",
   "execution_count": 68,
   "id": "5ed03357",
   "metadata": {},
   "outputs": [
    {
     "name": "stdout",
     "output_type": "stream",
     "text": [
      "                            OLS Regression Results                            \n",
      "==============================================================================\n",
      "Dep. Variable:                    cnt   R-squared:                       0.780\n",
      "Model:                            OLS   Adj. R-squared:                  0.774\n",
      "Method:                 Least Squares   F-statistic:                     135.0\n",
      "Date:                Sun, 21 Nov 2021   Prob (F-statistic):          1.83e-153\n",
      "Time:                        18:16:32   Log-Likelihood:                 424.16\n",
      "No. Observations:                 510   AIC:                            -820.3\n",
      "Df Residuals:                     496   BIC:                            -761.0\n",
      "Df Model:                          13                                         \n",
      "Covariance Type:            nonrobust                                         \n",
      "==============================================================================\n",
      "                 coef    std err          t      P>|t|      [0.025      0.975]\n",
      "------------------------------------------------------------------------------\n",
      "const          0.5375      0.020     26.668      0.000       0.498       0.577\n",
      "yr             0.2474      0.010     26.036      0.000       0.229       0.266\n",
      "holiday       -0.0533      0.032     -1.648      0.100      -0.117       0.010\n",
      "workingday     0.0503      0.014      3.631      0.000       0.023       0.077\n",
      "windspeed     -0.1743      0.029     -5.983      0.000      -0.232      -0.117\n",
      "spring        -0.2951      0.016    -18.042      0.000      -0.327      -0.263\n",
      "summer        -0.0413      0.016     -2.548      0.011      -0.073      -0.009\n",
      "winter        -0.1050      0.017     -6.265      0.000      -0.138      -0.072\n",
      "day6           0.0580      0.017      3.332      0.001       0.024       0.092\n",
      "jul           -0.0067      0.021     -0.313      0.754      -0.049       0.035\n",
      "oct            0.0966      0.020      4.782      0.000       0.057       0.136\n",
      "sep            0.0821      0.020      4.133      0.000       0.043       0.121\n",
      "weather2      -0.0941      0.010     -9.251      0.000      -0.114      -0.074\n",
      "weather3      -0.3180      0.029    -11.003      0.000      -0.375      -0.261\n",
      "==============================================================================\n",
      "Omnibus:                       47.953   Durbin-Watson:                   1.999\n",
      "Prob(Omnibus):                  0.000   Jarque-Bera (JB):              121.346\n",
      "Skew:                          -0.477   Prob(JB):                     4.47e-27\n",
      "Kurtosis:                       5.191   Cond. No.                         11.1\n",
      "==============================================================================\n",
      "\n",
      "Notes:\n",
      "[1] Standard Errors assume that the covariance matrix of the errors is correctly specified.\n",
      "      Features   VIF\n",
      "3    windspeed  4.23\n",
      "2   workingday  3.82\n",
      "6       winter  2.47\n",
      "4       spring  2.31\n",
      "5       summer  2.27\n",
      "0           yr  1.91\n",
      "7         day6  1.69\n",
      "9          oct  1.57\n",
      "11    weather2  1.56\n",
      "8          jul  1.30\n",
      "10         sep  1.26\n",
      "1      holiday  1.13\n",
      "12    weather3  1.10\n"
     ]
    }
   ],
   "source": [
    "build_stats_model(cols)\n",
    "get_vif(cols)"
   ]
  },
  {
   "cell_type": "markdown",
   "id": "c94219b3",
   "metadata": {},
   "source": [
    "p value of july is >0.05, we will drop it"
   ]
  },
  {
   "cell_type": "code",
   "execution_count": 69,
   "id": "80bd9de0",
   "metadata": {},
   "outputs": [],
   "source": [
    "cols.remove(\"jul\")"
   ]
  },
  {
   "cell_type": "markdown",
   "id": "c995e162",
   "metadata": {},
   "source": [
    "### model 4"
   ]
  },
  {
   "cell_type": "code",
   "execution_count": 70,
   "id": "99cff97d",
   "metadata": {},
   "outputs": [
    {
     "name": "stdout",
     "output_type": "stream",
     "text": [
      "                            OLS Regression Results                            \n",
      "==============================================================================\n",
      "Dep. Variable:                    cnt   R-squared:                       0.780\n",
      "Model:                            OLS   Adj. R-squared:                  0.774\n",
      "Method:                 Least Squares   F-statistic:                     146.5\n",
      "Date:                Sun, 21 Nov 2021   Prob (F-statistic):          1.55e-154\n",
      "Time:                        18:16:32   Log-Likelihood:                 424.11\n",
      "No. Observations:                 510   AIC:                            -822.2\n",
      "Df Residuals:                     497   BIC:                            -767.2\n",
      "Df Model:                          12                                         \n",
      "Covariance Type:            nonrobust                                         \n",
      "==============================================================================\n",
      "                 coef    std err          t      P>|t|      [0.025      0.975]\n",
      "------------------------------------------------------------------------------\n",
      "const          0.5349      0.018     29.243      0.000       0.499       0.571\n",
      "yr             0.2474      0.009     26.063      0.000       0.229       0.266\n",
      "holiday       -0.0530      0.032     -1.641      0.102      -0.117       0.010\n",
      "workingday     0.0505      0.014      3.651      0.000       0.023       0.078\n",
      "windspeed     -0.1743      0.029     -5.987      0.000      -0.231      -0.117\n",
      "spring        -0.2927      0.014    -20.250      0.000      -0.321      -0.264\n",
      "summer        -0.0389      0.014     -2.723      0.007      -0.067      -0.011\n",
      "winter        -0.1028      0.015     -6.755      0.000      -0.133      -0.073\n",
      "day6           0.0581      0.017      3.341      0.001       0.024       0.092\n",
      "oct            0.0968      0.020      4.800      0.000       0.057       0.136\n",
      "sep            0.0839      0.019      4.444      0.000       0.047       0.121\n",
      "weather2      -0.0939      0.010     -9.259      0.000      -0.114      -0.074\n",
      "weather3      -0.3182      0.029    -11.019      0.000      -0.375      -0.261\n",
      "==============================================================================\n",
      "Omnibus:                       48.138   Durbin-Watson:                   2.002\n",
      "Prob(Omnibus):                  0.000   Jarque-Bera (JB):              121.376\n",
      "Skew:                          -0.480   Prob(JB):                     4.40e-27\n",
      "Kurtosis:                       5.188   Cond. No.                         10.9\n",
      "==============================================================================\n",
      "\n",
      "Notes:\n",
      "[1] Standard Errors assume that the covariance matrix of the errors is correctly specified.\n",
      "      Features   VIF\n",
      "3    windspeed  4.08\n",
      "2   workingday  3.53\n",
      "6       winter  2.28\n",
      "4       spring  2.04\n",
      "5       summer  2.00\n",
      "0           yr  1.89\n",
      "7         day6  1.62\n",
      "8          oct  1.57\n",
      "10    weather2  1.56\n",
      "9          sep  1.21\n",
      "1      holiday  1.13\n",
      "11    weather3  1.10\n"
     ]
    }
   ],
   "source": [
    "build_stats_model(cols)\n",
    "get_vif(cols)"
   ]
  },
  {
   "cell_type": "markdown",
   "id": "f96f9a57",
   "metadata": {},
   "source": [
    "p value of holiday is >0.05, we will drop it"
   ]
  },
  {
   "cell_type": "code",
   "execution_count": 71,
   "id": "f900e7ea",
   "metadata": {},
   "outputs": [],
   "source": [
    "cols.remove(\"holiday\")"
   ]
  },
  {
   "cell_type": "code",
   "execution_count": 72,
   "id": "b54bf72c",
   "metadata": {},
   "outputs": [
    {
     "name": "stdout",
     "output_type": "stream",
     "text": [
      "                            OLS Regression Results                            \n",
      "==============================================================================\n",
      "Dep. Variable:                    cnt   R-squared:                       0.778\n",
      "Model:                            OLS   Adj. R-squared:                  0.773\n",
      "Method:                 Least Squares   F-statistic:                     159.0\n",
      "Date:                Sun, 21 Nov 2021   Prob (F-statistic):          4.56e-155\n",
      "Time:                        18:16:32   Log-Likelihood:                 422.73\n",
      "No. Observations:                 510   AIC:                            -821.5\n",
      "Df Residuals:                     498   BIC:                            -770.6\n",
      "Df Model:                          11                                         \n",
      "Covariance Type:            nonrobust                                         \n",
      "==============================================================================\n",
      "                 coef    std err          t      P>|t|      [0.025      0.975]\n",
      "------------------------------------------------------------------------------\n",
      "const          0.5278      0.018     29.647      0.000       0.493       0.563\n",
      "yr             0.2476      0.010     26.039      0.000       0.229       0.266\n",
      "workingday     0.0583      0.013      4.493      0.000       0.033       0.084\n",
      "windspeed     -0.1751      0.029     -6.008      0.000      -0.232      -0.118\n",
      "spring        -0.2941      0.014    -20.347      0.000      -0.323      -0.266\n",
      "summer        -0.0389      0.014     -2.720      0.007      -0.067      -0.011\n",
      "winter        -0.1045      0.015     -6.866      0.000      -0.134      -0.075\n",
      "day6           0.0661      0.017      3.951      0.000       0.033       0.099\n",
      "oct            0.0982      0.020      4.864      0.000       0.059       0.138\n",
      "sep            0.0820      0.019      4.342      0.000       0.045       0.119\n",
      "weather2      -0.0934      0.010     -9.204      0.000      -0.113      -0.073\n",
      "weather3      -0.3173      0.029    -10.971      0.000      -0.374      -0.260\n",
      "==============================================================================\n",
      "Omnibus:                       51.549   Durbin-Watson:                   2.000\n",
      "Prob(Omnibus):                  0.000   Jarque-Bera (JB):              133.766\n",
      "Skew:                          -0.507   Prob(JB):                     8.97e-30\n",
      "Kurtosis:                       5.295   Cond. No.                         10.0\n",
      "==============================================================================\n",
      "\n",
      "Notes:\n",
      "[1] Standard Errors assume that the covariance matrix of the errors is correctly specified.\n",
      "      Features   VIF\n",
      "2    windspeed  4.00\n",
      "1   workingday  3.29\n",
      "5       winter  2.22\n",
      "3       spring  2.00\n",
      "4       summer  1.99\n",
      "0           yr  1.88\n",
      "7          oct  1.57\n",
      "6         day6  1.56\n",
      "9     weather2  1.56\n",
      "8          sep  1.19\n",
      "10    weather3  1.10\n"
     ]
    }
   ],
   "source": [
    "build_stats_model(cols)\n",
    "get_vif(cols)"
   ]
  },
  {
   "cell_type": "markdown",
   "id": "112c2dc1",
   "metadata": {},
   "source": [
    "we have p value <0.05 and VIF<5 for all columns, hence a good model"
   ]
  },
  {
   "cell_type": "markdown",
   "id": "f0e77d61",
   "metadata": {},
   "source": [
    "## Residual Analysis of the train data\n",
    "\n",
    "### check if the error terms are normally distributed"
   ]
  },
  {
   "cell_type": "code",
   "execution_count": 73,
   "id": "a2fa7c85",
   "metadata": {},
   "outputs": [],
   "source": [
    "# cols will have selected features from above\n",
    "X_train_new = X_train[cols]\n",
    "X_train_sm = sm.add_constant(X_train_new)\n",
    "lm = sm.OLS(y_train,X_train_sm).fit()"
   ]
  },
  {
   "cell_type": "code",
   "execution_count": 74,
   "id": "5fe3d2b6",
   "metadata": {},
   "outputs": [],
   "source": [
    "y_train_pred = lm.predict(X_train_sm)"
   ]
  },
  {
   "cell_type": "code",
   "execution_count": 75,
   "id": "028af142",
   "metadata": {},
   "outputs": [
    {
     "data": {
      "image/png": "[encoded data removed]",
      "text/plain": [
       "<Figure size 432x288 with 1 Axes>"
      ]
     },
     "metadata": {
      "needs_background": "light"
     },
     "output_type": "display_data"
    }
   ],
   "source": [
    "# Plot the histogram of the error terms\n",
    "fig = plt.figure()\n",
    "sns.distplot((y_train - y_train_pred), bins = 20)\n",
    "fig.suptitle('Error Terms', fontsize = 20)\n",
    "plt.xlabel('Errors', fontsize = 18)\n",
    "plt.show()"
   ]
  },
  {
   "cell_type": "markdown",
   "id": "33ec5b33",
   "metadata": {},
   "source": [
    "error terms are normally distributed"
   ]
  },
  {
   "cell_type": "code",
   "execution_count": 76,
   "id": "ce93733a",
   "metadata": {},
   "outputs": [
    {
     "data": {
      "text/plain": [
       "Text(0, 0.5, 'error terms')"
      ]
     },
     "execution_count": 76,
     "metadata": {},
     "output_type": "execute_result"
    },
    {
     "data": {
      "image/png": "[encoded data removed]",
      "text/plain": [
       "<Figure size 432x288 with 1 Axes>"
      ]
     },
     "metadata": {
      "needs_background": "light"
     },
     "output_type": "display_data"
    }
   ],
   "source": [
    "fig = plt.figure()\n",
    "plt.scatter(y_train_pred,y_train - y_train_pred)\n",
    "fig.suptitle('Homoscedasticity check', fontsize=20) \n",
    "p = sns.lineplot([0,1],[0,0.0],color='red')\n",
    "plt.xlabel('y_train', fontsize=18)   \n",
    "plt.ylabel('error terms', fontsize=16)    "
   ]
  },
  {
   "cell_type": "markdown",
   "id": "9f380f96",
   "metadata": {},
   "source": [
    "### Mean of residuals"
   ]
  },
  {
   "cell_type": "code",
   "execution_count": 77,
   "id": "99baded8",
   "metadata": {},
   "outputs": [
    {
     "data": {
      "text/plain": [
       "6.057790434854224e-16"
      ]
     },
     "execution_count": 77,
     "metadata": {},
     "output_type": "execute_result"
    }
   ],
   "source": [
    "residuals = y_train - y_train_pred\n",
    "np.mean(residuals)"
   ]
  },
  {
   "cell_type": "markdown",
   "id": "0c4f579a",
   "metadata": {},
   "source": [
    "Mean of residuals is almost 0"
   ]
  },
  {
   "cell_type": "code",
   "execution_count": 78,
   "id": "61a2c2e3",
   "metadata": {},
   "outputs": [
    {
     "data": {
      "image/png": "[encoded data removed]",
      "text/plain": [
       "<Figure size 720x576 with 2 Axes>"
      ]
     },
     "metadata": {
      "needs_background": "light"
     },
     "output_type": "display_data"
    }
   ],
   "source": [
    "plt.figure(figsize = (10,8))\n",
    "sns.heatmap(df[cols].corr(),annot= True,cmap=\"BuPu\")\n",
    "plt.title('Multicollinearity test')\n",
    "plt.show()"
   ]
  },
  {
   "cell_type": "markdown",
   "id": "4e0b3e13",
   "metadata": {},
   "source": [
    "there's no perfect multicollinearity between independent variables"
   ]
  },
  {
   "cell_type": "markdown",
   "id": "c45405d8",
   "metadata": {},
   "source": [
    "## Making Predictions"
   ]
  },
  {
   "cell_type": "markdown",
   "id": "82123893",
   "metadata": {},
   "source": [
    "#### Applying the scaling on the test sets"
   ]
  },
  {
   "cell_type": "code",
   "execution_count": 79,
   "id": "87f4632c",
   "metadata": {},
   "outputs": [],
   "source": [
    "df_test[num_vars] = scaler.transform(df_test[num_vars])"
   ]
  },
  {
   "cell_type": "markdown",
   "id": "c422e4b9",
   "metadata": {},
   "source": [
    "#### Dividing into X_test and y_test"
   ]
  },
  {
   "cell_type": "code",
   "execution_count": 80,
   "id": "4494c4aa",
   "metadata": {},
   "outputs": [],
   "source": [
    "y_test = df_test.pop('cnt')\n",
    "X_test = df_test"
   ]
  },
  {
   "cell_type": "code",
   "execution_count": 81,
   "id": "c96aa234",
   "metadata": {},
   "outputs": [],
   "source": [
    "# Now let's use our model to make predictions.\n",
    "\n",
    "# Creating X_test_new dataframe by dropping variables from X_test\n",
    "X_test_new = X_test[cols]\n",
    "\n",
    "# Adding a constant variable \n",
    "X_test_new = sm.add_constant(X_test_new)"
   ]
  },
  {
   "cell_type": "code",
   "execution_count": 82,
   "id": "b4c1555f",
   "metadata": {},
   "outputs": [],
   "source": [
    "# Making predictions\n",
    "y_pred = lm.predict(X_test_new)"
   ]
  },
  {
   "cell_type": "markdown",
   "id": "cc643c23",
   "metadata": {},
   "source": [
    "## Model Evaluation"
   ]
  },
  {
   "cell_type": "code",
   "execution_count": 83,
   "id": "84bcaba1",
   "metadata": {},
   "outputs": [
    {
     "data": {
      "text/plain": [
       "Text(0, 0.5, 'y_pred')"
      ]
     },
     "execution_count": 83,
     "metadata": {},
     "output_type": "execute_result"
    },
    {
     "data": {
      "image/png": "[encoded data removed]",
      "text/plain": [
       "<Figure size 432x288 with 1 Axes>"
      ]
     },
     "metadata": {
      "needs_background": "light"
     },
     "output_type": "display_data"
    }
   ],
   "source": [
    "# Plotting y_test and y_pred to understand the spread.\n",
    "fig = plt.figure()\n",
    "plt.scatter(y_test,y_pred)\n",
    "fig.suptitle('y_test vs y_pred', fontsize=20)              # Plot heading \n",
    "plt.xlabel('y_test', fontsize=18)                          # X-label\n",
    "plt.ylabel('y_pred', fontsize=16)     "
   ]
  },
  {
   "cell_type": "code",
   "execution_count": 84,
   "id": "3625d6a3",
   "metadata": {},
   "outputs": [
    {
     "data": {
      "text/plain": [
       "0.7714935069822342"
      ]
     },
     "execution_count": 84,
     "metadata": {},
     "output_type": "execute_result"
    }
   ],
   "source": [
    "from sklearn.metrics import r2_score\n",
    "r_squared = r2_score(y_test, y_pred)\n",
    "r_squared"
   ]
  },
  {
   "cell_type": "markdown",
   "id": "35e655b9",
   "metadata": {},
   "source": [
    " 0.778 was r_square of model, hence its a good model to predict"
   ]
  },
  {
   "cell_type": "code",
   "execution_count": 85,
   "id": "ac6d80aa",
   "metadata": {},
   "outputs": [
    {
     "data": {
      "text/html": [
       "<div>\n",
       "<style scoped>\n",
       "    .dataframe tbody tr th:only-of-type {\n",
       "        vertical-align: middle;\n",
       "    }\n",
       "\n",
       "    .dataframe tbody tr th {\n",
       "        vertical-align: top;\n",
       "    }\n",
       "\n",
       "    .dataframe thead th {\n",
       "        text-align: right;\n",
       "    }\n",
       "</style>\n",
       "<table border=\"1\" class=\"dataframe\">\n",
       "  <thead>\n",
       "    <tr style=\"text-align: right;\">\n",
       "      <th></th>\n",
       "      <th>Variables</th>\n",
       "      <th>Coefficient value</th>\n",
       "    </tr>\n",
       "    <tr>\n",
       "      <th>index</th>\n",
       "      <th></th>\n",
       "      <th></th>\n",
       "    </tr>\n",
       "  </thead>\n",
       "  <tbody>\n",
       "    <tr>\n",
       "      <th>0</th>\n",
       "      <td>const</td>\n",
       "      <td>0.527779</td>\n",
       "    </tr>\n",
       "    <tr>\n",
       "      <th>1</th>\n",
       "      <td>yr</td>\n",
       "      <td>0.247569</td>\n",
       "    </tr>\n",
       "    <tr>\n",
       "      <th>8</th>\n",
       "      <td>oct</td>\n",
       "      <td>0.098191</td>\n",
       "    </tr>\n",
       "    <tr>\n",
       "      <th>9</th>\n",
       "      <td>sep</td>\n",
       "      <td>0.081997</td>\n",
       "    </tr>\n",
       "    <tr>\n",
       "      <th>7</th>\n",
       "      <td>day6</td>\n",
       "      <td>0.066053</td>\n",
       "    </tr>\n",
       "    <tr>\n",
       "      <th>2</th>\n",
       "      <td>workingday</td>\n",
       "      <td>0.058324</td>\n",
       "    </tr>\n",
       "    <tr>\n",
       "      <th>5</th>\n",
       "      <td>summer</td>\n",
       "      <td>-0.038901</td>\n",
       "    </tr>\n",
       "    <tr>\n",
       "      <th>10</th>\n",
       "      <td>weather2</td>\n",
       "      <td>-0.093444</td>\n",
       "    </tr>\n",
       "    <tr>\n",
       "      <th>6</th>\n",
       "      <td>winter</td>\n",
       "      <td>-0.104460</td>\n",
       "    </tr>\n",
       "    <tr>\n",
       "      <th>3</th>\n",
       "      <td>windspeed</td>\n",
       "      <td>-0.175142</td>\n",
       "    </tr>\n",
       "    <tr>\n",
       "      <th>4</th>\n",
       "      <td>spring</td>\n",
       "      <td>-0.294121</td>\n",
       "    </tr>\n",
       "    <tr>\n",
       "      <th>11</th>\n",
       "      <td>weather3</td>\n",
       "      <td>-0.317268</td>\n",
       "    </tr>\n",
       "  </tbody>\n",
       "</table>\n",
       "</div>"
      ],
      "text/plain": [
       "        Variables  Coefficient value\n",
       "index                               \n",
       "0           const           0.527779\n",
       "1              yr           0.247569\n",
       "8             oct           0.098191\n",
       "9             sep           0.081997\n",
       "7            day6           0.066053\n",
       "2      workingday           0.058324\n",
       "5          summer          -0.038901\n",
       "10       weather2          -0.093444\n",
       "6          winter          -0.104460\n",
       "3       windspeed          -0.175142\n",
       "4          spring          -0.294121\n",
       "11       weather3          -0.317268"
      ]
     },
     "execution_count": 85,
     "metadata": {},
     "output_type": "execute_result"
    }
   ],
   "source": [
    "param = pd.DataFrame(lm.params)\n",
    "param.insert(0,'Variables',param.index)\n",
    "param.rename(columns = {0:'Coefficient value'},inplace = True)\n",
    "param['index'] = list(range(0,12))\n",
    "param.set_index('index',inplace = True)\n",
    "param.sort_values(by = 'Coefficient value',ascending = False,inplace = True)\n",
    "param"
   ]
  },
  {
   "cell_type": "markdown",
   "id": "c63bc4b9",
   "metadata": {},
   "source": [
    "#### cnt = (0.247 x yr)+(0.098191 x oct)+(0.081997 x sep)+(0.066053 x day6)+(0.0583 x workingday)+(-0.038901 x summer)+(-0.093444 x weather2)+(-0.10446 x winter)+(-0.175142 x windspeed)+(-0.294121 x spring)+(-0.317268 x weather3)"
   ]
  },
  {
   "cell_type": "markdown",
   "id": "de357481",
   "metadata": {},
   "source": [
    "#### important variables are 'yr', 'workingday', 'windspeed', 'spring', 'summer', 'winter','day6', 'oct', 'sep', 'weather2', 'weather3'"
   ]
  },
  {
   "cell_type": "markdown",
   "id": "910a5831",
   "metadata": {},
   "source": [
    "#### demand increases with year, oct and sept month, working day and day6, <br>\n",
    "#### demand decreases with weather3,spring, windspeed,winter more than weather 2 and summer"
   ]
  },
  {
   "cell_type": "code",
   "execution_count": null,
   "id": "745eabb9",
   "metadata": {},
   "outputs": [],
   "source": []
  }
 ],
 "metadata": {
  "kernelspec": {
   "display_name": "Python 3",
   "language": "python",
   "name": "python3"
  },
  "language_info": {
   "codemirror_mode": {
    "name": "ipython",
    "version": 3
   },
   "file_extension": ".py",
   "mimetype": "text/x-python",
   "name": "python",
   "nbconvert_exporter": "python",
   "pygments_lexer": "ipython3",
   "version": "3.8.8"
  }
 },
 "nbformat": 4,
 "nbformat_minor": 5
}
